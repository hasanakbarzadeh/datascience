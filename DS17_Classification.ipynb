{
 "cells": [
  {
   "cell_type": "markdown",
   "id": "f9342d6d",
   "metadata": {},
   "source": [
    "# Case Study 7: Classification"
   ]
  },
  {
   "cell_type": "markdown",
   "id": "4a9b1a0e",
   "metadata": {},
   "source": [
    "## by Farzad Minooei"
   ]
  },
  {
   "cell_type": "markdown",
   "id": "da2ee6e7",
   "metadata": {},
   "source": [
    "## Business Understanding "
   ]
  },
  {
   "cell_type": "markdown",
   "id": "86f8e653",
   "metadata": {},
   "source": [
    "CRISP-DM: https://analica.ir/crisp-dm/"
   ]
  },
  {
   "cell_type": "markdown",
   "id": "30011118",
   "metadata": {},
   "source": [
    "Churn prediction for telecom industry\n",
    "\n",
    "Churn refers to the situation where a customer of a company stops using its products or services and leaves the company."
   ]
  },
  {
   "cell_type": "markdown",
   "id": "d4b503d1",
   "metadata": {},
   "source": [
    "### Initial Setups"
   ]
  },
  {
   "cell_type": "code",
   "execution_count": 1,
   "id": "3b3c7ee2",
   "metadata": {},
   "outputs": [],
   "source": [
    "import numpy as np\n",
    "import pandas as pd\n",
    "import matplotlib.pyplot as plt"
   ]
  },
  {
   "cell_type": "code",
   "execution_count": 2,
   "id": "c786f5a4",
   "metadata": {},
   "outputs": [
    {
     "data": {
      "text/html": [
       "<div>\n",
       "<style scoped>\n",
       "    .dataframe tbody tr th:only-of-type {\n",
       "        vertical-align: middle;\n",
       "    }\n",
       "\n",
       "    .dataframe tbody tr th {\n",
       "        vertical-align: top;\n",
       "    }\n",
       "\n",
       "    .dataframe thead th {\n",
       "        text-align: right;\n",
       "    }\n",
       "</style>\n",
       "<table border=\"1\" class=\"dataframe\">\n",
       "  <thead>\n",
       "    <tr style=\"text-align: right;\">\n",
       "      <th></th>\n",
       "      <th>id</th>\n",
       "      <th>call_failures</th>\n",
       "      <th>if_complain</th>\n",
       "      <th>subscription_length</th>\n",
       "      <th>charge_amount</th>\n",
       "      <th>seconds_of_calls</th>\n",
       "      <th>frequency_of_calls</th>\n",
       "      <th>frequency_of_sms</th>\n",
       "      <th>distinct_called_numbers</th>\n",
       "      <th>age_group</th>\n",
       "      <th>tariff_plan</th>\n",
       "      <th>status</th>\n",
       "      <th>if_churn</th>\n",
       "    </tr>\n",
       "  </thead>\n",
       "  <tbody>\n",
       "    <tr>\n",
       "      <th>0</th>\n",
       "      <td>1</td>\n",
       "      <td>8</td>\n",
       "      <td>0</td>\n",
       "      <td>38</td>\n",
       "      <td>0</td>\n",
       "      <td>4370</td>\n",
       "      <td>71</td>\n",
       "      <td>5</td>\n",
       "      <td>17</td>\n",
       "      <td>3</td>\n",
       "      <td>1</td>\n",
       "      <td>1</td>\n",
       "      <td>0</td>\n",
       "    </tr>\n",
       "    <tr>\n",
       "      <th>1</th>\n",
       "      <td>2</td>\n",
       "      <td>0</td>\n",
       "      <td>0</td>\n",
       "      <td>39</td>\n",
       "      <td>0</td>\n",
       "      <td>318</td>\n",
       "      <td>5</td>\n",
       "      <td>7</td>\n",
       "      <td>4</td>\n",
       "      <td>2</td>\n",
       "      <td>1</td>\n",
       "      <td>2</td>\n",
       "      <td>0</td>\n",
       "    </tr>\n",
       "    <tr>\n",
       "      <th>2</th>\n",
       "      <td>3</td>\n",
       "      <td>10</td>\n",
       "      <td>0</td>\n",
       "      <td>37</td>\n",
       "      <td>0</td>\n",
       "      <td>2453</td>\n",
       "      <td>60</td>\n",
       "      <td>359</td>\n",
       "      <td>24</td>\n",
       "      <td>3</td>\n",
       "      <td>1</td>\n",
       "      <td>1</td>\n",
       "      <td>0</td>\n",
       "    </tr>\n",
       "    <tr>\n",
       "      <th>3</th>\n",
       "      <td>4</td>\n",
       "      <td>10</td>\n",
       "      <td>0</td>\n",
       "      <td>38</td>\n",
       "      <td>0</td>\n",
       "      <td>4198</td>\n",
       "      <td>66</td>\n",
       "      <td>1</td>\n",
       "      <td>35</td>\n",
       "      <td>1</td>\n",
       "      <td>1</td>\n",
       "      <td>1</td>\n",
       "      <td>0</td>\n",
       "    </tr>\n",
       "    <tr>\n",
       "      <th>4</th>\n",
       "      <td>5</td>\n",
       "      <td>3</td>\n",
       "      <td>0</td>\n",
       "      <td>38</td>\n",
       "      <td>0</td>\n",
       "      <td>2393</td>\n",
       "      <td>58</td>\n",
       "      <td>2</td>\n",
       "      <td>33</td>\n",
       "      <td>1</td>\n",
       "      <td>1</td>\n",
       "      <td>1</td>\n",
       "      <td>0</td>\n",
       "    </tr>\n",
       "  </tbody>\n",
       "</table>\n",
       "</div>"
      ],
      "text/plain": [
       "   id  call_failures  if_complain  subscription_length  charge_amount  \\\n",
       "0   1              8            0                   38              0   \n",
       "1   2              0            0                   39              0   \n",
       "2   3             10            0                   37              0   \n",
       "3   4             10            0                   38              0   \n",
       "4   5              3            0                   38              0   \n",
       "\n",
       "   seconds_of_calls  frequency_of_calls  frequency_of_sms  \\\n",
       "0              4370                  71                 5   \n",
       "1               318                   5                 7   \n",
       "2              2453                  60               359   \n",
       "3              4198                  66                 1   \n",
       "4              2393                  58                 2   \n",
       "\n",
       "   distinct_called_numbers  age_group  tariff_plan  status  if_churn  \n",
       "0                       17          3            1       1         0  \n",
       "1                        4          2            1       2         0  \n",
       "2                       24          3            1       1         0  \n",
       "3                       35          1            1       1         0  \n",
       "4                       33          1            1       1         0  "
      ]
     },
     "execution_count": 2,
     "metadata": {},
     "output_type": "execute_result"
    }
   ],
   "source": [
    "#Read data from csv file\n",
    "data = pd.read_csv('cs_07.csv')\n",
    "data.head()"
   ]
  },
  {
   "cell_type": "code",
   "execution_count": 3,
   "id": "d9290271",
   "metadata": {},
   "outputs": [
    {
     "data": {
      "text/plain": [
       "(3150, 13)"
      ]
     },
     "execution_count": 3,
     "metadata": {},
     "output_type": "execute_result"
    }
   ],
   "source": [
    "data.shape"
   ]
  },
  {
   "cell_type": "markdown",
   "id": "59f7a26f",
   "metadata": {},
   "source": [
    "## Data Understanding"
   ]
  },
  {
   "cell_type": "markdown",
   "id": "0f98ec1d",
   "metadata": {},
   "source": [
    "#### 1: Understand data collection process"
   ]
  },
  {
   "cell_type": "markdown",
   "id": "57ab2534",
   "metadata": {},
   "source": [
    "Data gathered from Iranian telecom company over a 12-month period (from September 2006 to September 2007)\n",
    "\n",
    "Call Detail Record (CDR) + CRM data base"
   ]
  },
  {
   "cell_type": "markdown",
   "id": "fc6ea4e7",
   "metadata": {},
   "source": [
    "#### 2: Document data set description (meta data)"
   ]
  },
  {
   "cell_type": "code",
   "execution_count": 4,
   "id": "e3f34f44",
   "metadata": {},
   "outputs": [
    {
     "name": "stdout",
     "output_type": "stream",
     "text": [
      "<class 'pandas.core.frame.DataFrame'>\n",
      "RangeIndex: 3150 entries, 0 to 3149\n",
      "Data columns (total 13 columns):\n",
      " #   Column                   Non-Null Count  Dtype\n",
      "---  ------                   --------------  -----\n",
      " 0   id                       3150 non-null   int64\n",
      " 1   call_failures            3150 non-null   int64\n",
      " 2   if_complain              3150 non-null   int64\n",
      " 3   subscription_length      3150 non-null   int64\n",
      " 4   charge_amount            3150 non-null   int64\n",
      " 5   seconds_of_calls         3150 non-null   int64\n",
      " 6   frequency_of_calls       3150 non-null   int64\n",
      " 7   frequency_of_sms         3150 non-null   int64\n",
      " 8   distinct_called_numbers  3150 non-null   int64\n",
      " 9   age_group                3150 non-null   int64\n",
      " 10  tariff_plan              3150 non-null   int64\n",
      " 11  status                   3150 non-null   int64\n",
      " 12  if_churn                 3150 non-null   int64\n",
      "dtypes: int64(13)\n",
      "memory usage: 320.0 KB\n"
     ]
    }
   ],
   "source": [
    "data.info()"
   ]
  },
  {
   "cell_type": "markdown",
   "id": "c3e8499c",
   "metadata": {},
   "source": [
    "0 id: customer idification\n",
    "\n",
    "1 call_failures: number of call failures (numeric)\n",
    "\n",
    "2 if_complain: 0: No complaint, 1: complaint (binary)\n",
    "\n",
    "3 subscription_length: total months of subscription (numeric)\n",
    "\n",
    "4 charge_amount: 0: lowest amount, 9: highest amount (ordinal)\n",
    "\n",
    "5 seconds_of_calls: total seconds of calls (numeric)\n",
    "\n",
    "6 frequency_of_calls: total number of calls (numeric)\n",
    "\n",
    "7 frequency_of_sms: number of sent short messages (numeric)\n",
    "\n",
    "8 distinct_called_numbers: total number of distinct phone calls (numeric)\n",
    "\n",
    "9 age_group: 1: less than 15, 2: between 15 and 30, 3: between 30 and 45, 4: between 45 and 60, \n",
    "5: between 60 and 75 (ordinal)\n",
    "\n",
    "10 tariff_plan: 1: Pay as you go, 2: contractual (binary)\n",
    "\n",
    "11 status: 1: active (customers who have not demonstrated inactive conditions)\n",
    "2: non-active (customers who have not increased their account in two sequential months while having had less than 30 min worth of calls in the last month) (binary)\n",
    "\n",
    "12 if_churn: if customer churns (i.e., sell or cedes SIM privilege to another person) (binary)"
   ]
  },
  {
   "cell_type": "markdown",
   "id": "1aaf27ea",
   "metadata": {},
   "source": [
    "#### 3: Check for missing values"
   ]
  },
  {
   "cell_type": "code",
   "execution_count": 5,
   "id": "78d6efda",
   "metadata": {},
   "outputs": [
    {
     "data": {
      "text/plain": [
       "id                         0\n",
       "call_failures              0\n",
       "if_complain                0\n",
       "subscription_length        0\n",
       "charge_amount              0\n",
       "seconds_of_calls           0\n",
       "frequency_of_calls         0\n",
       "frequency_of_sms           0\n",
       "distinct_called_numbers    0\n",
       "age_group                  0\n",
       "tariff_plan                0\n",
       "status                     0\n",
       "if_churn                   0\n",
       "dtype: int64"
      ]
     },
     "execution_count": 5,
     "metadata": {},
     "output_type": "execute_result"
    }
   ],
   "source": [
    "np.sum(data.isnull())"
   ]
  },
  {
   "cell_type": "markdown",
   "id": "6b1eab9a",
   "metadata": {},
   "source": [
    "#### 4: Univariate data analysis"
   ]
  },
  {
   "cell_type": "code",
   "execution_count": 6,
   "id": "5cc5c90c",
   "metadata": {},
   "outputs": [
    {
     "data": {
      "text/plain": [
       "3150"
      ]
     },
     "execution_count": 6,
     "metadata": {},
     "output_type": "execute_result"
    }
   ],
   "source": [
    "#Check number of unique ids\n",
    "data['id'].nunique()"
   ]
  },
  {
   "cell_type": "code",
   "execution_count": 7,
   "id": "f377b06b",
   "metadata": {},
   "outputs": [
    {
     "data": {
      "text/plain": [
       "0"
      ]
     },
     "execution_count": 7,
     "metadata": {},
     "output_type": "execute_result"
    }
   ],
   "source": [
    "#Check if there is duplicate rows\n",
    "np.sum(data.duplicated())"
   ]
  },
  {
   "cell_type": "code",
   "execution_count": 8,
   "id": "75e10eb3",
   "metadata": {},
   "outputs": [
    {
     "data": {
      "text/plain": [
       "0    0.842857\n",
       "1    0.157143\n",
       "Name: if_churn, dtype: float64"
      ]
     },
     "execution_count": 8,
     "metadata": {},
     "output_type": "execute_result"
    }
   ],
   "source": [
    "#Frequency table for response variable\n",
    "data['if_churn'].value_counts(normalize = True)\n",
    "#Class-imbalanced data"
   ]
  },
  {
   "cell_type": "code",
   "execution_count": 9,
   "id": "d63459d9",
   "metadata": {},
   "outputs": [
    {
     "data": {
      "image/png": "[encoded data removed]",
      "text/plain": [
       "<Figure size 1200x1200 with 8 Axes>"
      ]
     },
     "metadata": {},
     "output_type": "display_data"
    }
   ],
   "source": [
    "#Histogram of numeric variables\n",
    "var_ind = [1, 3, 4, 5, 6, 7, 8, 9]\n",
    "plt.figure(figsize = (12, 12))\n",
    "plt.subplots_adjust(hspace = 0.4, wspace = 0.4)\n",
    "for i in range(1, 9):\n",
    "    plt.subplot(4, 2, i)\n",
    "    plt.hist(x = data.iloc[: , var_ind[i - 1]], alpha = 0.4, color = 'red')\n",
    "    plt.title(data.columns[var_ind[i - 1]])"
   ]
  },
  {
   "cell_type": "code",
   "execution_count": 10,
   "id": "6dfc3d49",
   "metadata": {},
   "outputs": [
    {
     "data": {
      "text/html": [
       "<div>\n",
       "<style scoped>\n",
       "    .dataframe tbody tr th:only-of-type {\n",
       "        vertical-align: middle;\n",
       "    }\n",
       "\n",
       "    .dataframe tbody tr th {\n",
       "        vertical-align: top;\n",
       "    }\n",
       "\n",
       "    .dataframe thead th {\n",
       "        text-align: right;\n",
       "    }\n",
       "</style>\n",
       "<table border=\"1\" class=\"dataframe\">\n",
       "  <thead>\n",
       "    <tr style=\"text-align: right;\">\n",
       "      <th></th>\n",
       "      <th>call_failures</th>\n",
       "      <th>subscription_length</th>\n",
       "      <th>charge_amount</th>\n",
       "      <th>seconds_of_calls</th>\n",
       "      <th>frequency_of_calls</th>\n",
       "      <th>frequency_of_sms</th>\n",
       "      <th>distinct_called_numbers</th>\n",
       "      <th>age_group</th>\n",
       "    </tr>\n",
       "  </thead>\n",
       "  <tbody>\n",
       "    <tr>\n",
       "      <th>count</th>\n",
       "      <td>3150.000000</td>\n",
       "      <td>3150.000000</td>\n",
       "      <td>3150.000000</td>\n",
       "      <td>3150.000000</td>\n",
       "      <td>3150.000000</td>\n",
       "      <td>3150.000000</td>\n",
       "      <td>3150.000000</td>\n",
       "      <td>3150.000000</td>\n",
       "    </tr>\n",
       "    <tr>\n",
       "      <th>mean</th>\n",
       "      <td>7.627937</td>\n",
       "      <td>32.541905</td>\n",
       "      <td>0.942857</td>\n",
       "      <td>4472.459683</td>\n",
       "      <td>69.460635</td>\n",
       "      <td>73.174921</td>\n",
       "      <td>23.509841</td>\n",
       "      <td>2.826032</td>\n",
       "    </tr>\n",
       "    <tr>\n",
       "      <th>std</th>\n",
       "      <td>7.263886</td>\n",
       "      <td>8.573482</td>\n",
       "      <td>1.521072</td>\n",
       "      <td>4197.908687</td>\n",
       "      <td>57.413308</td>\n",
       "      <td>112.237560</td>\n",
       "      <td>17.217337</td>\n",
       "      <td>0.892555</td>\n",
       "    </tr>\n",
       "    <tr>\n",
       "      <th>min</th>\n",
       "      <td>0.000000</td>\n",
       "      <td>3.000000</td>\n",
       "      <td>0.000000</td>\n",
       "      <td>0.000000</td>\n",
       "      <td>0.000000</td>\n",
       "      <td>0.000000</td>\n",
       "      <td>0.000000</td>\n",
       "      <td>1.000000</td>\n",
       "    </tr>\n",
       "    <tr>\n",
       "      <th>25%</th>\n",
       "      <td>1.000000</td>\n",
       "      <td>30.000000</td>\n",
       "      <td>0.000000</td>\n",
       "      <td>1391.250000</td>\n",
       "      <td>27.000000</td>\n",
       "      <td>6.000000</td>\n",
       "      <td>10.000000</td>\n",
       "      <td>2.000000</td>\n",
       "    </tr>\n",
       "    <tr>\n",
       "      <th>50%</th>\n",
       "      <td>6.000000</td>\n",
       "      <td>35.000000</td>\n",
       "      <td>0.000000</td>\n",
       "      <td>2990.000000</td>\n",
       "      <td>54.000000</td>\n",
       "      <td>21.000000</td>\n",
       "      <td>21.000000</td>\n",
       "      <td>3.000000</td>\n",
       "    </tr>\n",
       "    <tr>\n",
       "      <th>75%</th>\n",
       "      <td>12.000000</td>\n",
       "      <td>38.000000</td>\n",
       "      <td>1.000000</td>\n",
       "      <td>6478.250000</td>\n",
       "      <td>95.000000</td>\n",
       "      <td>87.000000</td>\n",
       "      <td>34.000000</td>\n",
       "      <td>3.000000</td>\n",
       "    </tr>\n",
       "    <tr>\n",
       "      <th>max</th>\n",
       "      <td>36.000000</td>\n",
       "      <td>47.000000</td>\n",
       "      <td>10.000000</td>\n",
       "      <td>17090.000000</td>\n",
       "      <td>255.000000</td>\n",
       "      <td>522.000000</td>\n",
       "      <td>97.000000</td>\n",
       "      <td>5.000000</td>\n",
       "    </tr>\n",
       "  </tbody>\n",
       "</table>\n",
       "</div>"
      ],
      "text/plain": [
       "       call_failures  subscription_length  charge_amount  seconds_of_calls  \\\n",
       "count    3150.000000          3150.000000    3150.000000       3150.000000   \n",
       "mean        7.627937            32.541905       0.942857       4472.459683   \n",
       "std         7.263886             8.573482       1.521072       4197.908687   \n",
       "min         0.000000             3.000000       0.000000          0.000000   \n",
       "25%         1.000000            30.000000       0.000000       1391.250000   \n",
       "50%         6.000000            35.000000       0.000000       2990.000000   \n",
       "75%        12.000000            38.000000       1.000000       6478.250000   \n",
       "max        36.000000            47.000000      10.000000      17090.000000   \n",
       "\n",
       "       frequency_of_calls  frequency_of_sms  distinct_called_numbers  \\\n",
       "count         3150.000000       3150.000000              3150.000000   \n",
       "mean            69.460635         73.174921                23.509841   \n",
       "std             57.413308        112.237560                17.217337   \n",
       "min              0.000000          0.000000                 0.000000   \n",
       "25%             27.000000          6.000000                10.000000   \n",
       "50%             54.000000         21.000000                21.000000   \n",
       "75%             95.000000         87.000000                34.000000   \n",
       "max            255.000000        522.000000                97.000000   \n",
       "\n",
       "         age_group  \n",
       "count  3150.000000  \n",
       "mean      2.826032  \n",
       "std       0.892555  \n",
       "min       1.000000  \n",
       "25%       2.000000  \n",
       "50%       3.000000  \n",
       "75%       3.000000  \n",
       "max       5.000000  "
      ]
     },
     "execution_count": 10,
     "metadata": {},
     "output_type": "execute_result"
    }
   ],
   "source": [
    "#Summary statistics of numeric variables\n",
    "data.iloc[:, var_ind].describe()"
   ]
  },
  {
   "cell_type": "code",
   "execution_count": 11,
   "id": "bf918734",
   "metadata": {},
   "outputs": [
    {
     "data": {
      "image/png": "[encoded data removed]",
      "text/plain": [
       "<Figure size 1200x1200 with 8 Axes>"
      ]
     },
     "metadata": {},
     "output_type": "display_data"
    }
   ],
   "source": [
    "#Boxplot of numeric variables\n",
    "plt.figure(figsize = (12, 12))\n",
    "plt.subplots_adjust(hspace = 0.4, wspace = 0.4)\n",
    "for i in range(1, 9):\n",
    "    plt.subplot(4, 2, i)\n",
    "    plt.boxplot(data.iloc[: , var_ind[i - 1]])\n",
    "    plt.xticks([]) #remove the xticks \n",
    "    plt.title(data.columns[var_ind[i - 1]])"
   ]
  },
  {
   "cell_type": "code",
   "execution_count": 12,
   "id": "17c629fa",
   "metadata": {},
   "outputs": [
    {
     "name": "stdout",
     "output_type": "stream",
     "text": [
      "--- Frequency table for if_complain ---\n",
      "0    2909\n",
      "1     241\n",
      "Name: if_complain, dtype: int64\n",
      "--- Frequency table for tariff_plan ---\n",
      "1    2905\n",
      "2     245\n",
      "Name: tariff_plan, dtype: int64\n",
      "--- Frequency table for status ---\n",
      "1    2368\n",
      "2     782\n",
      "Name: status, dtype: int64\n"
     ]
    }
   ],
   "source": [
    "#Frequency table for categorical variables\n",
    "for i in ['if_complain', 'tariff_plan', 'status']:\n",
    "    print('--- Frequency table for ' + i + ' ---')\n",
    "    print(data[i].value_counts())"
   ]
  },
  {
   "cell_type": "markdown",
   "id": "ae0196cf",
   "metadata": {},
   "source": [
    "#### 5: Bivariate data analysis"
   ]
  },
  {
   "cell_type": "code",
   "execution_count": 13,
   "id": "a8f21f02",
   "metadata": {},
   "outputs": [
    {
     "data": {
      "image/png": "[encoded data removed]",
      "text/plain": [
       "<Figure size 1200x1200 with 8 Axes>"
      ]
     },
     "metadata": {},
     "output_type": "display_data"
    }
   ],
   "source": [
    "#Analysis of if_churn based on numeric variables\n",
    "plot = plt.figure(figsize = (12, 12))\n",
    "plot.subplots_adjust(hspace = 0.4, wspace = 0.4)\n",
    "for i in range(1, 9):\n",
    "    plt.subplot(4, 2, i)\n",
    "    plt.boxplot([data.loc[data['if_churn'] == 0, data.columns[var_ind[i - 1]]],\n",
    "                 data.loc[data['if_churn'] == 1, data.columns[var_ind[i - 1]]]])\n",
    "    plt.title(data.columns[var_ind[i - 1]])\n",
    "    plt.xticks(ticks = [1, 2], labels = ['Active', 'Churn'])"
   ]
  },
  {
   "cell_type": "code",
   "execution_count": 14,
   "id": "1c3767bc",
   "metadata": {},
   "outputs": [
    {
     "data": {
      "text/html": [
       "<div>\n",
       "<style scoped>\n",
       "    .dataframe tbody tr th:only-of-type {\n",
       "        vertical-align: middle;\n",
       "    }\n",
       "\n",
       "    .dataframe tbody tr th {\n",
       "        vertical-align: top;\n",
       "    }\n",
       "\n",
       "    .dataframe thead th {\n",
       "        text-align: right;\n",
       "    }\n",
       "</style>\n",
       "<table border=\"1\" class=\"dataframe\">\n",
       "  <thead>\n",
       "    <tr style=\"text-align: right;\">\n",
       "      <th></th>\n",
       "      <th>call_failures</th>\n",
       "      <th>subscription_length</th>\n",
       "      <th>charge_amount</th>\n",
       "      <th>seconds_of_calls</th>\n",
       "      <th>frequency_of_calls</th>\n",
       "      <th>frequency_of_sms</th>\n",
       "      <th>distinct_called_numbers</th>\n",
       "      <th>age_group</th>\n",
       "    </tr>\n",
       "  </thead>\n",
       "  <tbody>\n",
       "    <tr>\n",
       "      <th>call_failures</th>\n",
       "      <td>1.00</td>\n",
       "      <td>0.17</td>\n",
       "      <td>0.59</td>\n",
       "      <td>0.50</td>\n",
       "      <td>0.57</td>\n",
       "      <td>-0.02</td>\n",
       "      <td>0.50</td>\n",
       "      <td>0.05</td>\n",
       "    </tr>\n",
       "    <tr>\n",
       "      <th>subscription_length</th>\n",
       "      <td>0.17</td>\n",
       "      <td>1.00</td>\n",
       "      <td>0.08</td>\n",
       "      <td>0.12</td>\n",
       "      <td>0.11</td>\n",
       "      <td>0.08</td>\n",
       "      <td>0.09</td>\n",
       "      <td>0.02</td>\n",
       "    </tr>\n",
       "    <tr>\n",
       "      <th>charge_amount</th>\n",
       "      <td>0.59</td>\n",
       "      <td>0.08</td>\n",
       "      <td>1.00</td>\n",
       "      <td>0.45</td>\n",
       "      <td>0.38</td>\n",
       "      <td>0.09</td>\n",
       "      <td>0.42</td>\n",
       "      <td>0.28</td>\n",
       "    </tr>\n",
       "    <tr>\n",
       "      <th>seconds_of_calls</th>\n",
       "      <td>0.50</td>\n",
       "      <td>0.12</td>\n",
       "      <td>0.45</td>\n",
       "      <td>1.00</td>\n",
       "      <td>0.95</td>\n",
       "      <td>0.10</td>\n",
       "      <td>0.68</td>\n",
       "      <td>0.02</td>\n",
       "    </tr>\n",
       "    <tr>\n",
       "      <th>frequency_of_calls</th>\n",
       "      <td>0.57</td>\n",
       "      <td>0.11</td>\n",
       "      <td>0.38</td>\n",
       "      <td>0.95</td>\n",
       "      <td>1.00</td>\n",
       "      <td>0.10</td>\n",
       "      <td>0.74</td>\n",
       "      <td>-0.03</td>\n",
       "    </tr>\n",
       "    <tr>\n",
       "      <th>frequency_of_sms</th>\n",
       "      <td>-0.02</td>\n",
       "      <td>0.08</td>\n",
       "      <td>0.09</td>\n",
       "      <td>0.10</td>\n",
       "      <td>0.10</td>\n",
       "      <td>1.00</td>\n",
       "      <td>0.08</td>\n",
       "      <td>-0.05</td>\n",
       "    </tr>\n",
       "    <tr>\n",
       "      <th>distinct_called_numbers</th>\n",
       "      <td>0.50</td>\n",
       "      <td>0.09</td>\n",
       "      <td>0.42</td>\n",
       "      <td>0.68</td>\n",
       "      <td>0.74</td>\n",
       "      <td>0.08</td>\n",
       "      <td>1.00</td>\n",
       "      <td>0.02</td>\n",
       "    </tr>\n",
       "    <tr>\n",
       "      <th>age_group</th>\n",
       "      <td>0.05</td>\n",
       "      <td>0.02</td>\n",
       "      <td>0.28</td>\n",
       "      <td>0.02</td>\n",
       "      <td>-0.03</td>\n",
       "      <td>-0.05</td>\n",
       "      <td>0.02</td>\n",
       "      <td>1.00</td>\n",
       "    </tr>\n",
       "  </tbody>\n",
       "</table>\n",
       "</div>"
      ],
      "text/plain": [
       "                         call_failures  subscription_length  charge_amount  \\\n",
       "call_failures                     1.00                 0.17           0.59   \n",
       "subscription_length               0.17                 1.00           0.08   \n",
       "charge_amount                     0.59                 0.08           1.00   \n",
       "seconds_of_calls                  0.50                 0.12           0.45   \n",
       "frequency_of_calls                0.57                 0.11           0.38   \n",
       "frequency_of_sms                 -0.02                 0.08           0.09   \n",
       "distinct_called_numbers           0.50                 0.09           0.42   \n",
       "age_group                         0.05                 0.02           0.28   \n",
       "\n",
       "                         seconds_of_calls  frequency_of_calls  \\\n",
       "call_failures                        0.50                0.57   \n",
       "subscription_length                  0.12                0.11   \n",
       "charge_amount                        0.45                0.38   \n",
       "seconds_of_calls                     1.00                0.95   \n",
       "frequency_of_calls                   0.95                1.00   \n",
       "frequency_of_sms                     0.10                0.10   \n",
       "distinct_called_numbers              0.68                0.74   \n",
       "age_group                            0.02               -0.03   \n",
       "\n",
       "                         frequency_of_sms  distinct_called_numbers  age_group  \n",
       "call_failures                       -0.02                     0.50       0.05  \n",
       "subscription_length                  0.08                     0.09       0.02  \n",
       "charge_amount                        0.09                     0.42       0.28  \n",
       "seconds_of_calls                     0.10                     0.68       0.02  \n",
       "frequency_of_calls                   0.10                     0.74      -0.03  \n",
       "frequency_of_sms                     1.00                     0.08      -0.05  \n",
       "distinct_called_numbers              0.08                     1.00       0.02  \n",
       "age_group                           -0.05                     0.02       1.00  "
      ]
     },
     "execution_count": 14,
     "metadata": {},
     "output_type": "execute_result"
    }
   ],
   "source": [
    "#Correlation analysis\n",
    "corr_table = round(data.iloc[:, var_ind].corr(method = 'pearson'), 2)\n",
    "corr_table"
   ]
  },
  {
   "cell_type": "code",
   "execution_count": 15,
   "id": "e2d653f9",
   "metadata": {},
   "outputs": [
    {
     "name": "stdout",
     "output_type": "stream",
     "text": [
      "--- cross table for if_churn vs. if_complain ---\n",
      "if_churn        0    1\n",
      "if_complain           \n",
      "0            0.98  0.6\n",
      "1            0.02  0.4\n",
      "--- cross table for if_churn vs. tariff_plan ---\n",
      "if_churn        0     1\n",
      "tariff_plan            \n",
      "1            0.91  0.99\n",
      "2            0.09  0.01\n",
      "--- cross table for if_churn vs. status ---\n",
      "if_churn     0     1\n",
      "status              \n",
      "1         0.84  0.25\n",
      "2         0.16  0.75\n"
     ]
    }
   ],
   "source": [
    "#Cross tab analysis\n",
    "for i in ['if_complain', 'tariff_plan', 'status']:\n",
    "    cross_tab_pct = round(pd.crosstab(data[i],\n",
    "                                      data['if_churn'], \n",
    "                                      normalize = 'columns'), 2)\n",
    "    print('--- cross table for if_churn vs. ' + i + ' ---')\n",
    "    print(cross_tab_pct)"
   ]
  },
  {
   "cell_type": "markdown",
   "id": "4a380754",
   "metadata": {},
   "source": [
    "## Data Preparation"
   ]
  },
  {
   "cell_type": "code",
   "execution_count": 16,
   "id": "5590fa26",
   "metadata": {},
   "outputs": [],
   "source": [
    "#Remove id\n",
    "data.drop(columns = 'id', inplace = True)"
   ]
  },
  {
   "cell_type": "code",
   "execution_count": 17,
   "id": "853619ff",
   "metadata": {},
   "outputs": [],
   "source": [
    "#Convert data type of categorical variables\n",
    "data[['if_complain', \n",
    "      'tariff_plan', \n",
    "      'status']] = data[['if_complain',\n",
    "                         'tariff_plan',\n",
    "                         'status']].apply(lambda col: \n",
    "                                          col.astype('category'))"
   ]
  },
  {
   "cell_type": "code",
   "execution_count": 18,
   "id": "6a71d306",
   "metadata": {},
   "outputs": [
    {
     "name": "stdout",
     "output_type": "stream",
     "text": [
      "<class 'pandas.core.frame.DataFrame'>\n",
      "RangeIndex: 3150 entries, 0 to 3149\n",
      "Data columns (total 12 columns):\n",
      " #   Column                   Non-Null Count  Dtype   \n",
      "---  ------                   --------------  -----   \n",
      " 0   call_failures            3150 non-null   int64   \n",
      " 1   if_complain              3150 non-null   category\n",
      " 2   subscription_length      3150 non-null   int64   \n",
      " 3   charge_amount            3150 non-null   int64   \n",
      " 4   seconds_of_calls         3150 non-null   int64   \n",
      " 5   frequency_of_calls       3150 non-null   int64   \n",
      " 6   frequency_of_sms         3150 non-null   int64   \n",
      " 7   distinct_called_numbers  3150 non-null   int64   \n",
      " 8   age_group                3150 non-null   int64   \n",
      " 9   tariff_plan              3150 non-null   category\n",
      " 10  status                   3150 non-null   category\n",
      " 11  if_churn                 3150 non-null   int64   \n",
      "dtypes: category(3), int64(9)\n",
      "memory usage: 231.2 KB\n"
     ]
    }
   ],
   "source": [
    "data.info()"
   ]
  },
  {
   "cell_type": "markdown",
   "id": "b0f78bd6",
   "metadata": {},
   "source": [
    "## Build Predictive Models"
   ]
  },
  {
   "cell_type": "code",
   "execution_count": 19,
   "id": "552d3955",
   "metadata": {},
   "outputs": [
    {
     "name": "stdout",
     "output_type": "stream",
     "text": [
      "(2205, 12)\n",
      "(945, 12)\n"
     ]
    }
   ],
   "source": [
    "#Split data into test and train\n",
    "from sklearn.model_selection import train_test_split\n",
    "train, test = train_test_split(data, \n",
    "                               test_size = 0.3, \n",
    "                               random_state = 1234)\n",
    "print(train.shape)\n",
    "print(test.shape)"
   ]
  },
  {
   "cell_type": "code",
   "execution_count": 20,
   "id": "cc449709",
   "metadata": {},
   "outputs": [
    {
     "name": "stdout",
     "output_type": "stream",
     "text": [
      "<class 'pandas.core.frame.DataFrame'>\n",
      "Int64Index: 2205 entries, 1218 to 2863\n",
      "Data columns (total 3 columns):\n",
      " #   Column         Non-Null Count  Dtype\n",
      "---  ------         --------------  -----\n",
      " 0   if_complain_0  2205 non-null   uint8\n",
      " 1   tariff_plan_1  2205 non-null   uint8\n",
      " 2   status_1       2205 non-null   uint8\n",
      "dtypes: uint8(3)\n",
      "memory usage: 23.7 KB\n"
     ]
    }
   ],
   "source": [
    "#Define dummy variables for categorical varibales\n",
    "dummy_vars = pd.get_dummies(train[['if_complain', \n",
    "                                   'tariff_plan', \n",
    "                                   'status']])\n",
    "\n",
    "#Define base level for each categorical variable\n",
    "dummy_vars.drop(columns = ['if_complain_1', \n",
    "                           'tariff_plan_2', \n",
    "                           'status_2'], inplace = True)\n",
    "dummy_vars.info()"
   ]
  },
  {
   "cell_type": "code",
   "execution_count": 21,
   "id": "c0e1b470",
   "metadata": {},
   "outputs": [
    {
     "data": {
      "text/html": [
       "<div>\n",
       "<style scoped>\n",
       "    .dataframe tbody tr th:only-of-type {\n",
       "        vertical-align: middle;\n",
       "    }\n",
       "\n",
       "    .dataframe tbody tr th {\n",
       "        vertical-align: top;\n",
       "    }\n",
       "\n",
       "    .dataframe thead th {\n",
       "        text-align: right;\n",
       "    }\n",
       "</style>\n",
       "<table border=\"1\" class=\"dataframe\">\n",
       "  <thead>\n",
       "    <tr style=\"text-align: right;\">\n",
       "      <th></th>\n",
       "      <th>call_failures</th>\n",
       "      <th>subscription_length</th>\n",
       "      <th>charge_amount</th>\n",
       "      <th>seconds_of_calls</th>\n",
       "      <th>frequency_of_calls</th>\n",
       "      <th>frequency_of_sms</th>\n",
       "      <th>distinct_called_numbers</th>\n",
       "      <th>age_group</th>\n",
       "      <th>if_complain_0</th>\n",
       "      <th>tariff_plan_1</th>\n",
       "      <th>status_1</th>\n",
       "    </tr>\n",
       "  </thead>\n",
       "  <tbody>\n",
       "    <tr>\n",
       "      <th>1218</th>\n",
       "      <td>0</td>\n",
       "      <td>39</td>\n",
       "      <td>0</td>\n",
       "      <td>0</td>\n",
       "      <td>0</td>\n",
       "      <td>3</td>\n",
       "      <td>0</td>\n",
       "      <td>2</td>\n",
       "      <td>1</td>\n",
       "      <td>1</td>\n",
       "      <td>0</td>\n",
       "    </tr>\n",
       "    <tr>\n",
       "      <th>1430</th>\n",
       "      <td>0</td>\n",
       "      <td>34</td>\n",
       "      <td>0</td>\n",
       "      <td>6660</td>\n",
       "      <td>99</td>\n",
       "      <td>18</td>\n",
       "      <td>25</td>\n",
       "      <td>4</td>\n",
       "      <td>1</td>\n",
       "      <td>1</td>\n",
       "      <td>1</td>\n",
       "    </tr>\n",
       "    <tr>\n",
       "      <th>2881</th>\n",
       "      <td>3</td>\n",
       "      <td>33</td>\n",
       "      <td>0</td>\n",
       "      <td>933</td>\n",
       "      <td>7</td>\n",
       "      <td>8</td>\n",
       "      <td>5</td>\n",
       "      <td>4</td>\n",
       "      <td>1</td>\n",
       "      <td>1</td>\n",
       "      <td>0</td>\n",
       "    </tr>\n",
       "    <tr>\n",
       "      <th>424</th>\n",
       "      <td>11</td>\n",
       "      <td>33</td>\n",
       "      <td>1</td>\n",
       "      <td>5638</td>\n",
       "      <td>90</td>\n",
       "      <td>15</td>\n",
       "      <td>19</td>\n",
       "      <td>2</td>\n",
       "      <td>0</td>\n",
       "      <td>1</td>\n",
       "      <td>1</td>\n",
       "    </tr>\n",
       "    <tr>\n",
       "      <th>2338</th>\n",
       "      <td>8</td>\n",
       "      <td>25</td>\n",
       "      <td>1</td>\n",
       "      <td>1540</td>\n",
       "      <td>40</td>\n",
       "      <td>190</td>\n",
       "      <td>9</td>\n",
       "      <td>3</td>\n",
       "      <td>1</td>\n",
       "      <td>0</td>\n",
       "      <td>1</td>\n",
       "    </tr>\n",
       "  </tbody>\n",
       "</table>\n",
       "</div>"
      ],
      "text/plain": [
       "      call_failures  subscription_length  charge_amount  seconds_of_calls  \\\n",
       "1218              0                   39              0                 0   \n",
       "1430              0                   34              0              6660   \n",
       "2881              3                   33              0               933   \n",
       "424              11                   33              1              5638   \n",
       "2338              8                   25              1              1540   \n",
       "\n",
       "      frequency_of_calls  frequency_of_sms  distinct_called_numbers  \\\n",
       "1218                   0                 3                        0   \n",
       "1430                  99                18                       25   \n",
       "2881                   7                 8                        5   \n",
       "424                   90                15                       19   \n",
       "2338                  40               190                        9   \n",
       "\n",
       "      age_group  if_complain_0  tariff_plan_1  status_1  \n",
       "1218          2              1              1         0  \n",
       "1430          4              1              1         1  \n",
       "2881          4              1              1         0  \n",
       "424           2              0              1         1  \n",
       "2338          3              1              0         1  "
      ]
     },
     "execution_count": 21,
     "metadata": {},
     "output_type": "execute_result"
    }
   ],
   "source": [
    "#Define feature matrix \n",
    "X_ = train.drop(['if_churn', \n",
    "                 'if_complain', \n",
    "                 'tariff_plan', \n",
    "                 'status'], axis = 1)\n",
    "X_train_imbalanced = pd.concat([X_, dummy_vars], axis = 1)\n",
    "X_train_imbalanced.head()"
   ]
  },
  {
   "cell_type": "code",
   "execution_count": 22,
   "id": "829b3380",
   "metadata": {},
   "outputs": [
    {
     "data": {
      "text/plain": [
       "1218    1\n",
       "1430    0\n",
       "2881    1\n",
       "424     1\n",
       "2338    0\n",
       "       ..\n",
       "664     0\n",
       "3125    0\n",
       "1318    1\n",
       "723     0\n",
       "2863    0\n",
       "Name: if_churn, Length: 2205, dtype: int64"
      ]
     },
     "execution_count": 22,
     "metadata": {},
     "output_type": "execute_result"
    }
   ],
   "source": [
    "#Define response matrix\n",
    "y_train = train['if_churn']\n",
    "y_train"
   ]
  },
  {
   "cell_type": "markdown",
   "id": "f7954e1d",
   "metadata": {},
   "source": [
    "### Logistic Regression"
   ]
  },
  {
   "cell_type": "code",
   "execution_count": 23,
   "id": "67b9b020",
   "metadata": {},
   "outputs": [
    {
     "name": "stdout",
     "output_type": "stream",
     "text": [
      "[[ 5.36760759e-04 -4.96707718e-04 -3.91147322e-05 -5.29362422e-04\n",
      "  -2.23650009e-04 -4.38551371e-03 -3.66574096e-04 -4.65385838e-05\n",
      "  -8.36105245e-05 -9.40687027e-06 -6.32628491e-05]]\n",
      "[-1.46702547e-05]\n"
     ]
    },
    {
     "name": "stderr",
     "output_type": "stream",
     "text": [
      "C:\\ProgramData\\anaconda3\\lib\\site-packages\\sklearn\\linear_model\\_sag.py:350: ConvergenceWarning: The max_iter was reached which means the coef_ did not converge\n",
      "  warnings.warn(\n"
     ]
    }
   ],
   "source": [
    "#Logistic regression/imbalanced data - model 1\n",
    "from sklearn.linear_model import LogisticRegression\n",
    "log_reg = LogisticRegression(penalty = None, #None: no penalty, \n",
    "                                             #'l1': L1 Regularization, \n",
    "                                             #'l2': L2 Regularization\n",
    "                             random_state = 1234,\n",
    "                             max_iter = 100,\n",
    "                             solver = 'saga') #'lbfgs' for small sample, \n",
    "                                              #'saga' for large sample\n",
    "model_1 = log_reg.fit(X_train_imbalanced, y_train)\n",
    "print(model_1.coef_)\n",
    "print(model_1.intercept_)\n",
    "#Note: convergence problem\n",
    "#Possible solutions: \n",
    "#   Increase the number of iterations\n",
    "#   Try a different optimizer\n",
    "#   Scale data "
   ]
  },
  {
   "cell_type": "code",
   "execution_count": 24,
   "id": "b03728ce",
   "metadata": {},
   "outputs": [],
   "source": [
    "#Scale data\n",
    "from sklearn.preprocessing import StandardScaler\n",
    "scaler = StandardScaler()\n",
    "X_train_imbalanced_scaled = scaler.fit_transform(X_train_imbalanced)"
   ]
  },
  {
   "cell_type": "code",
   "execution_count": 25,
   "id": "4400750c",
   "metadata": {},
   "outputs": [
    {
     "name": "stdout",
     "output_type": "stream",
     "text": [
      "[[ 0.97962014 -0.35494426 -0.86055128  1.59479456 -3.10769775 -1.32347678\n",
      "  -0.17350959 -0.06240147 -1.03074587 -0.16990688 -0.5559783 ]]\n",
      "[-3.53242923]\n"
     ]
    }
   ],
   "source": [
    "#Logistic regression/imbalanced data - model 1\n",
    "from sklearn.linear_model import LogisticRegression\n",
    "log_reg = LogisticRegression(penalty = None, #None: no penalty, \n",
    "                                             #'l1': L1 Regularization, \n",
    "                                             #'l2': L2 Regularization\n",
    "                             random_state = 1234,\n",
    "                             max_iter = 2000,\n",
    "                             solver = 'saga') #'lbfgs' for small sample, \n",
    "                                              #'saga' for large sample\n",
    "model_1 = log_reg.fit(X_train_imbalanced_scaled, y_train)\n",
    "print(model_1.coef_)\n",
    "print(model_1.intercept_)"
   ]
  },
  {
   "cell_type": "code",
   "execution_count": 26,
   "id": "7fda5fc1",
   "metadata": {},
   "outputs": [
    {
     "data": {
      "text/plain": [
       "array([[6.27184391e-01, 3.72815609e-01],\n",
       "       [9.92808341e-01, 7.19165941e-03],\n",
       "       [5.34857000e-01, 4.65143000e-01],\n",
       "       ...,\n",
       "       [6.59610575e-01, 3.40389425e-01],\n",
       "       [9.90088778e-01, 9.91122173e-03],\n",
       "       [9.99244122e-01, 7.55878000e-04]])"
      ]
     },
     "execution_count": 26,
     "metadata": {},
     "output_type": "execute_result"
    }
   ],
   "source": [
    "#Predict probability on train\n",
    "y_train_prob_1 = model_1.predict_proba(X_train_imbalanced_scaled)\n",
    "y_train_prob_1"
   ]
  },
  {
   "cell_type": "code",
   "execution_count": 27,
   "id": "2546601b",
   "metadata": {},
   "outputs": [],
   "source": [
    "#Plot ROC curve\n",
    "from sklearn.metrics import roc_curve, auc\n",
    "def roc_plot(response, pred_prob):\n",
    "    #Calculate false positive rate and true positive rate\n",
    "    fpr, tpr, thresholds = roc_curve(response, pred_prob)\n",
    "    #Calculate area under curve\n",
    "    print('Area under the ROC curve : {r: 0.3f}'.format(r = auc(fpr, tpr)))\n",
    "    #Plot ROC curve\n",
    "    plt.plot(fpr, tpr, c = 'red', linewidth = 2)\n",
    "    plt.title('ROC Curve')\n",
    "    plt.xlabel('False Positive Rate')\n",
    "    plt.ylabel('True Positive Rate')\n",
    "    plt.grid()\n",
    "    return plt.show()"
   ]
  },
  {
   "cell_type": "code",
   "execution_count": 28,
   "id": "b4606f6d",
   "metadata": {},
   "outputs": [
    {
     "name": "stdout",
     "output_type": "stream",
     "text": [
      "Area under the ROC curve :  0.935\n"
     ]
    },
    {
     "data": {
      "image/png": "[encoded data removed]",
      "text/plain": [
       "<Figure size 640x480 with 1 Axes>"
      ]
     },
     "metadata": {},
     "output_type": "display_data"
    }
   ],
   "source": [
    "#Plot ROC curve - model 1\n",
    "roc_plot(y_train, y_train_prob_1[:, 1])"
   ]
  },
  {
   "cell_type": "code",
   "execution_count": 29,
   "id": "5e9d548e",
   "metadata": {},
   "outputs": [],
   "source": [
    "#Youden’s index for optimal cut-off probability \n",
    "def find_optimal_cutoff(response, pred_prob):\n",
    "    #Calculate false positive rate and true positive rate\n",
    "    fpr, tpr, thresholds = roc_curve(response, pred_prob)\n",
    "    #Calculate the optimal cut-off\n",
    "    cutoff = thresholds[np.argmax(tpr - fpr)]\n",
    "    return round(cutoff, 3)"
   ]
  },
  {
   "cell_type": "code",
   "execution_count": 30,
   "id": "a7a80b25",
   "metadata": {},
   "outputs": [
    {
     "data": {
      "text/plain": [
       "0.192"
      ]
     },
     "execution_count": 30,
     "metadata": {},
     "output_type": "execute_result"
    }
   ],
   "source": [
    "#Find the optimal cut-off\n",
    "cutoff_1 = find_optimal_cutoff(y_train, y_train_prob_1[:, 1])\n",
    "cutoff_1"
   ]
  },
  {
   "cell_type": "code",
   "execution_count": 31,
   "id": "83da1ec2",
   "metadata": {},
   "outputs": [
    {
     "data": {
      "text/plain": [
       "1218    1\n",
       "1430    0\n",
       "2881    1\n",
       "424     1\n",
       "2338    0\n",
       "       ..\n",
       "664     0\n",
       "3125    0\n",
       "1318    1\n",
       "723     0\n",
       "2863    0\n",
       "Length: 2205, dtype: int64"
      ]
     },
     "execution_count": 31,
     "metadata": {},
     "output_type": "execute_result"
    }
   ],
   "source": [
    "#Predict class on train\n",
    "y_train_pred_1 = pd.Series([1 if _ > cutoff_1 else 0 for _ in y_train_prob_1[:, 1]], \n",
    "                           index = y_train.index)\n",
    "y_train_pred_1"
   ]
  },
  {
   "cell_type": "code",
   "execution_count": 32,
   "id": "36753536",
   "metadata": {},
   "outputs": [
    {
     "name": "stdout",
     "output_type": "stream",
     "text": [
      "Accuracy is  0.862\n",
      "Precision is  0.536\n",
      "Recall is  0.88986\n",
      "F1 score is  0.669\n",
      "F2 score is  0.786\n",
      "--- Confusion Matrix ---\n",
      "[[1594  266]\n",
      " [  38  307]]\n"
     ]
    }
   ],
   "source": [
    "#Prediction evaluation on train\n",
    "from sklearn.metrics import accuracy_score\n",
    "from sklearn.metrics import precision_score\n",
    "from sklearn.metrics import recall_score\n",
    "from sklearn.metrics import f1_score\n",
    "from sklearn.metrics import fbeta_score\n",
    "from sklearn.metrics import confusion_matrix\n",
    "print('Accuracy is {r: 0.3f}'.format(r = accuracy_score(y_train, y_train_pred_1)))\n",
    "print('Precision is {r: 0.3f}'.format(r = precision_score(y_train, y_train_pred_1)))\n",
    "print('Recall is {r: 0.5f}'.format(r = recall_score(y_train, y_train_pred_1)))\n",
    "#If both false positive and false negatives are equally important, \n",
    "# use F1 score\n",
    "print('F1 score is {r: 0.3f}'.format(r = f1_score(y_train, y_train_pred_1)))\n",
    "#If false negatives are more costly, use F2 score, \n",
    "# otherwise, if false positives are more costly, then use F0.5 score.\n",
    "print('F2 score is {r: 0.3f}'.format(r = fbeta_score(y_train, y_train_pred_1, beta = 2)))\n",
    "print('--- Confusion Matrix ---')\n",
    "print(confusion_matrix(y_train, y_train_pred_1))"
   ]
  },
  {
   "cell_type": "code",
   "execution_count": 33,
   "id": "dea69dd6",
   "metadata": {},
   "outputs": [
    {
     "data": {
      "text/plain": [
       "358     0\n",
       "775     1\n",
       "426     1\n",
       "273     0\n",
       "1687    0\n",
       "       ..\n",
       "2505    0\n",
       "1378    1\n",
       "892     0\n",
       "636     0\n",
       "1879    0\n",
       "Length: 945, dtype: int64"
      ]
     },
     "execution_count": 33,
     "metadata": {},
     "output_type": "execute_result"
    }
   ],
   "source": [
    "#Predict on test - model 1\n",
    "\n",
    "#Define dummy variables for categorical varibales\n",
    "dummy_vars = pd.get_dummies(test[['if_complain', \n",
    "                                  'tariff_plan', \n",
    "                                  'status']])\n",
    "\n",
    "#Define base level for each categorical variable\n",
    "dummy_vars.drop(columns = ['if_complain_1', \n",
    "                           'tariff_plan_2', \n",
    "                           'status_2'], inplace = True)\n",
    "\n",
    "#Define feature matrix \n",
    "X_ = test.drop(['if_churn', \n",
    "                'if_complain', \n",
    "                'tariff_plan', \n",
    "                'status'], axis = 1)\n",
    "X_test = pd.concat([X_, dummy_vars], axis = 1)\n",
    "\n",
    "#Scale data\n",
    "X_test_scaled = scaler.fit_transform(X_test)\n",
    "\n",
    "#Predict probability on test\n",
    "y_test_prob_1 = model_1.predict_proba(X_test_scaled)\n",
    "\n",
    "#Predict class on test\n",
    "y_test_pred_1 = pd.Series([1 if _ > cutoff_1 else 0 for _ in y_test_prob_1[:, 1]],\n",
    "                          index = test.index)\n",
    "y_test_pred_1"
   ]
  },
  {
   "cell_type": "code",
   "execution_count": 34,
   "id": "20659cb8",
   "metadata": {},
   "outputs": [
    {
     "data": {
      "text/html": [
       "<div>\n",
       "<style scoped>\n",
       "    .dataframe tbody tr th:only-of-type {\n",
       "        vertical-align: middle;\n",
       "    }\n",
       "\n",
       "    .dataframe tbody tr th {\n",
       "        vertical-align: top;\n",
       "    }\n",
       "\n",
       "    .dataframe thead th {\n",
       "        text-align: right;\n",
       "    }\n",
       "</style>\n",
       "<table border=\"1\" class=\"dataframe\">\n",
       "  <thead>\n",
       "    <tr style=\"text-align: right;\">\n",
       "      <th></th>\n",
       "      <th>Accuracy</th>\n",
       "      <th>Precision</th>\n",
       "      <th>Recall</th>\n",
       "      <th>F1 Score</th>\n",
       "      <th>F2 Score</th>\n",
       "    </tr>\n",
       "  </thead>\n",
       "  <tbody>\n",
       "    <tr>\n",
       "      <th>LogReg-Imbalanced-All Features</th>\n",
       "      <td>0.860317</td>\n",
       "      <td>0.537815</td>\n",
       "      <td>0.853333</td>\n",
       "      <td>0.659794</td>\n",
       "      <td>0.763723</td>\n",
       "    </tr>\n",
       "  </tbody>\n",
       "</table>\n",
       "</div>"
      ],
      "text/plain": [
       "                                Accuracy  Precision    Recall  F1 Score  \\\n",
       "LogReg-Imbalanced-All Features  0.860317   0.537815  0.853333  0.659794   \n",
       "\n",
       "                                F2 Score  \n",
       "LogReg-Imbalanced-All Features  0.763723  "
      ]
     },
     "execution_count": 34,
     "metadata": {},
     "output_type": "execute_result"
    }
   ],
   "source": [
    "#Model evaluation on test - model 1\n",
    "models_comp = pd.DataFrame({'Accuracy': accuracy_score(test['if_churn'], \n",
    "                                                       y_test_pred_1),\n",
    "                            'Precision': precision_score(test['if_churn'], \n",
    "                                                         y_test_pred_1),\n",
    "                            'Recall': recall_score(test['if_churn'], \n",
    "                                                   y_test_pred_1),\n",
    "                            'F1 Score': f1_score(test['if_churn'], \n",
    "                                                 y_test_pred_1),\n",
    "                            'F2 Score': fbeta_score(test['if_churn'], \n",
    "                                                    y_test_pred_1, beta = 2)\n",
    "                            }, \n",
    "                            index = ['LogReg-Imbalanced-All Features'])\n",
    "models_comp"
   ]
  },
  {
   "cell_type": "code",
   "execution_count": 35,
   "id": "4a9ad8e2",
   "metadata": {},
   "outputs": [
    {
     "data": {
      "text/plain": [
       "array([[685, 110],\n",
       "       [ 22, 128]], dtype=int64)"
      ]
     },
     "execution_count": 35,
     "metadata": {},
     "output_type": "execute_result"
    }
   ],
   "source": [
    "#Confusion matrix - model 1\n",
    "confusion_matrix(test['if_churn'], y_test_pred_1)"
   ]
  },
  {
   "cell_type": "code",
   "execution_count": 36,
   "id": "1e44a1b0",
   "metadata": {},
   "outputs": [],
   "source": [
    "#Function to check multicollinearity\n",
    "from statsmodels.stats.outliers_influence import variance_inflation_factor\n",
    "def vif(X):\n",
    "    #Calculating VIF\n",
    "    vif = pd.DataFrame()\n",
    "    vif[\"variables\"] = X.columns\n",
    "    vif[\"VIF\"] = [variance_inflation_factor(X, i) for i in range(X.shape[1])]\n",
    "    return(vif)"
   ]
  },
  {
   "cell_type": "code",
   "execution_count": 37,
   "id": "a0e86a4c",
   "metadata": {},
   "outputs": [
    {
     "data": {
      "text/html": [
       "<div>\n",
       "<style scoped>\n",
       "    .dataframe tbody tr th:only-of-type {\n",
       "        vertical-align: middle;\n",
       "    }\n",
       "\n",
       "    .dataframe tbody tr th {\n",
       "        vertical-align: top;\n",
       "    }\n",
       "\n",
       "    .dataframe thead th {\n",
       "        text-align: right;\n",
       "    }\n",
       "</style>\n",
       "<table border=\"1\" class=\"dataframe\">\n",
       "  <thead>\n",
       "    <tr style=\"text-align: right;\">\n",
       "      <th></th>\n",
       "      <th>variables</th>\n",
       "      <th>VIF</th>\n",
       "    </tr>\n",
       "  </thead>\n",
       "  <tbody>\n",
       "    <tr>\n",
       "      <th>0</th>\n",
       "      <td>call_failures</td>\n",
       "      <td>5.099190</td>\n",
       "    </tr>\n",
       "    <tr>\n",
       "      <th>1</th>\n",
       "      <td>subscription_length</td>\n",
       "      <td>8.820053</td>\n",
       "    </tr>\n",
       "    <tr>\n",
       "      <th>2</th>\n",
       "      <td>charge_amount</td>\n",
       "      <td>3.006309</td>\n",
       "    </tr>\n",
       "    <tr>\n",
       "      <th>3</th>\n",
       "      <td>seconds_of_calls</td>\n",
       "      <td>27.670899</td>\n",
       "    </tr>\n",
       "    <tr>\n",
       "      <th>4</th>\n",
       "      <td>frequency_of_calls</td>\n",
       "      <td>39.082314</td>\n",
       "    </tr>\n",
       "    <tr>\n",
       "      <th>5</th>\n",
       "      <td>frequency_of_sms</td>\n",
       "      <td>1.505975</td>\n",
       "    </tr>\n",
       "    <tr>\n",
       "      <th>6</th>\n",
       "      <td>distinct_called_numbers</td>\n",
       "      <td>6.829421</td>\n",
       "    </tr>\n",
       "    <tr>\n",
       "      <th>7</th>\n",
       "      <td>age_group</td>\n",
       "      <td>7.555469</td>\n",
       "    </tr>\n",
       "  </tbody>\n",
       "</table>\n",
       "</div>"
      ],
      "text/plain": [
       "                 variables        VIF\n",
       "0            call_failures   5.099190\n",
       "1      subscription_length   8.820053\n",
       "2            charge_amount   3.006309\n",
       "3         seconds_of_calls  27.670899\n",
       "4       frequency_of_calls  39.082314\n",
       "5         frequency_of_sms   1.505975\n",
       "6  distinct_called_numbers   6.829421\n",
       "7                age_group   7.555469"
      ]
     },
     "execution_count": 37,
     "metadata": {},
     "output_type": "execute_result"
    }
   ],
   "source": [
    "#Check multicollinearity for numeric variables\n",
    "vif(X_train_imbalanced.iloc[:, :8])\n",
    "#Note: If VIF > 10 then multicollinearity is high"
   ]
  },
  {
   "cell_type": "markdown",
   "id": "ed2f2865",
   "metadata": {},
   "source": [
    "Note: Imbalanced class data and multicolinearity problem"
   ]
  },
  {
   "cell_type": "code",
   "execution_count": 38,
   "id": "1ef903e6",
   "metadata": {},
   "outputs": [
    {
     "name": "stdout",
     "output_type": "stream",
     "text": [
      "0.10.1\n"
     ]
    }
   ],
   "source": [
    "#%pip install imblearn\n",
    "import imblearn\n",
    "print(imblearn.__version__)"
   ]
  },
  {
   "cell_type": "code",
   "execution_count": 39,
   "id": "12ef827c",
   "metadata": {},
   "outputs": [],
   "source": [
    "#Define oversampling strategy\n",
    "from imblearn.over_sampling import RandomOverSampler\n",
    "oversample = RandomOverSampler(sampling_strategy = 'minority')\n",
    "\n",
    "#Fit and apply the transform\n",
    "X_train_over_scaled, y_train_over = oversample.fit_resample(X_train_imbalanced_scaled, \n",
    "                                                            y_train)"
   ]
  },
  {
   "cell_type": "code",
   "execution_count": 40,
   "id": "dca7daea",
   "metadata": {},
   "outputs": [
    {
     "name": "stdout",
     "output_type": "stream",
     "text": [
      "[ True  True  True  True  True  True  True False  True False  True]\n"
     ]
    }
   ],
   "source": [
    "#Feature selection\n",
    "from sklearn.feature_selection import RFECV\n",
    "rfe = RFECV(LogisticRegression(), cv = 10, scoring = 'roc_auc')\n",
    "rfe.fit(X_train_over_scaled, y_train_over)\n",
    "print(rfe.support_)"
   ]
  },
  {
   "cell_type": "code",
   "execution_count": 41,
   "id": "0fa2b629",
   "metadata": {},
   "outputs": [
    {
     "data": {
      "text/plain": [
       "(array([ 0,  1,  2,  3,  4,  5,  6,  8, 10], dtype=int64),)"
      ]
     },
     "execution_count": 41,
     "metadata": {},
     "output_type": "execute_result"
    }
   ],
   "source": [
    "#Selected features indices\n",
    "selected_features_ind = np.where(rfe.support_)\n",
    "selected_features_ind"
   ]
  },
  {
   "cell_type": "code",
   "execution_count": 42,
   "id": "e940da4e",
   "metadata": {},
   "outputs": [
    {
     "name": "stdout",
     "output_type": "stream",
     "text": [
      "<class 'pandas.core.frame.DataFrame'>\n",
      "Int64Index: 2205 entries, 1218 to 2863\n",
      "Data columns (total 11 columns):\n",
      " #   Column                   Non-Null Count  Dtype\n",
      "---  ------                   --------------  -----\n",
      " 0   call_failures            2205 non-null   int64\n",
      " 1   subscription_length      2205 non-null   int64\n",
      " 2   charge_amount            2205 non-null   int64\n",
      " 3   seconds_of_calls         2205 non-null   int64\n",
      " 4   frequency_of_calls       2205 non-null   int64\n",
      " 5   frequency_of_sms         2205 non-null   int64\n",
      " 6   distinct_called_numbers  2205 non-null   int64\n",
      " 7   age_group                2205 non-null   int64\n",
      " 8   if_complain_0            2205 non-null   uint8\n",
      " 9   tariff_plan_1            2205 non-null   uint8\n",
      " 10  status_1                 2205 non-null   uint8\n",
      "dtypes: int64(8), uint8(3)\n",
      "memory usage: 161.5 KB\n"
     ]
    }
   ],
   "source": [
    "X_train_imbalanced.info()"
   ]
  },
  {
   "cell_type": "code",
   "execution_count": 43,
   "id": "85617a06",
   "metadata": {},
   "outputs": [
    {
     "name": "stdout",
     "output_type": "stream",
     "text": [
      "[[ 1.12562966 -0.38154915 -0.88971952  1.12512905 -2.51764722 -1.27779902\n",
      "  -0.35592739 -1.16536642 -0.64863508]]\n",
      "[-1.91556777]\n"
     ]
    }
   ],
   "source": [
    "#Logistic regression w/ oversampling & feature selection - model 2\n",
    "from sklearn.linear_model import LogisticRegression\n",
    "log_reg = LogisticRegression(penalty = None, #None: no penalty, \n",
    "                                             #'l1': L1 Regularization, \n",
    "                                             #'l2': L2 Regularization\n",
    "                             random_state = 1234,\n",
    "                             max_iter = 100,\n",
    "                             solver = 'saga') #'lbfgs' for small sample, \n",
    "                                              #'saga' for large sample\n",
    "model_2 = log_reg.fit(X_train_over_scaled[:, selected_features_ind[0]], y_train_over)\n",
    "print(model_2.coef_)\n",
    "print(model_2.intercept_)"
   ]
  },
  {
   "cell_type": "code",
   "execution_count": 44,
   "id": "9d20d546",
   "metadata": {},
   "outputs": [
    {
     "data": {
      "text/plain": [
       "0.549"
      ]
     },
     "execution_count": 44,
     "metadata": {},
     "output_type": "execute_result"
    }
   ],
   "source": [
    "#Predict probability on train\n",
    "y_train_prob_2 = model_2.predict_proba(X_train_over_scaled[:, selected_features_ind[0]])\n",
    "\n",
    "#Find the optimal cut-off\n",
    "cutoff_2 = find_optimal_cutoff(y_train_over, y_train_prob_2[:, 1])\n",
    "cutoff_2"
   ]
  },
  {
   "cell_type": "code",
   "execution_count": 45,
   "id": "a50696fc",
   "metadata": {},
   "outputs": [
    {
     "data": {
      "text/plain": [
       "358     0\n",
       "775     0\n",
       "426     1\n",
       "273     0\n",
       "1687    0\n",
       "       ..\n",
       "2505    0\n",
       "1378    1\n",
       "892     0\n",
       "636     0\n",
       "1879    0\n",
       "Length: 945, dtype: int64"
      ]
     },
     "execution_count": 45,
     "metadata": {},
     "output_type": "execute_result"
    }
   ],
   "source": [
    "#Predict probability on test\n",
    "y_test_prob_2 = model_2.predict_proba(X_test_scaled[:, selected_features_ind[0]])\n",
    "\n",
    "#Predict class on test\n",
    "y_test_pred_2 = pd.Series([1 if _ > cutoff_2 else 0 for _ in y_test_prob_2[:, 1]],\n",
    "                          index = test.index)\n",
    "y_test_pred_2"
   ]
  },
  {
   "cell_type": "code",
   "execution_count": 46,
   "id": "e76130d3",
   "metadata": {},
   "outputs": [
    {
     "data": {
      "text/html": [
       "<div>\n",
       "<style scoped>\n",
       "    .dataframe tbody tr th:only-of-type {\n",
       "        vertical-align: middle;\n",
       "    }\n",
       "\n",
       "    .dataframe tbody tr th {\n",
       "        vertical-align: top;\n",
       "    }\n",
       "\n",
       "    .dataframe thead th {\n",
       "        text-align: right;\n",
       "    }\n",
       "</style>\n",
       "<table border=\"1\" class=\"dataframe\">\n",
       "  <thead>\n",
       "    <tr style=\"text-align: right;\">\n",
       "      <th></th>\n",
       "      <th>Accuracy</th>\n",
       "      <th>Precision</th>\n",
       "      <th>Recall</th>\n",
       "      <th>F1 Score</th>\n",
       "      <th>F2 Score</th>\n",
       "    </tr>\n",
       "  </thead>\n",
       "  <tbody>\n",
       "    <tr>\n",
       "      <th>LogReg-Imbalanced-All Features</th>\n",
       "      <td>0.860317</td>\n",
       "      <td>0.537815</td>\n",
       "      <td>0.853333</td>\n",
       "      <td>0.659794</td>\n",
       "      <td>0.763723</td>\n",
       "    </tr>\n",
       "    <tr>\n",
       "      <th>LogReg-Oversampling-Selected Features</th>\n",
       "      <td>0.864550</td>\n",
       "      <td>0.547009</td>\n",
       "      <td>0.853333</td>\n",
       "      <td>0.666667</td>\n",
       "      <td>0.767386</td>\n",
       "    </tr>\n",
       "  </tbody>\n",
       "</table>\n",
       "</div>"
      ],
      "text/plain": [
       "                                       Accuracy  Precision    Recall  \\\n",
       "LogReg-Imbalanced-All Features         0.860317   0.537815  0.853333   \n",
       "LogReg-Oversampling-Selected Features  0.864550   0.547009  0.853333   \n",
       "\n",
       "                                       F1 Score  F2 Score  \n",
       "LogReg-Imbalanced-All Features         0.659794  0.763723  \n",
       "LogReg-Oversampling-Selected Features  0.666667  0.767386  "
      ]
     },
     "execution_count": 46,
     "metadata": {},
     "output_type": "execute_result"
    }
   ],
   "source": [
    "#Model evaluation on test - model 2\n",
    "models_comp = pd.concat([models_comp,\n",
    "                         pd.DataFrame({'Accuracy': accuracy_score(test['if_churn'], \n",
    "                                                                  y_test_pred_2),\n",
    "                                       'Precision': precision_score(test['if_churn'], \n",
    "                                                                    y_test_pred_2),\n",
    "                                       'Recall': recall_score(test['if_churn'], \n",
    "                                                              y_test_pred_2),\n",
    "                                       'F1 Score': f1_score(test['if_churn'], \n",
    "                                                            y_test_pred_2),\n",
    "                                       'F2 Score': fbeta_score(test['if_churn'], \n",
    "                                                               y_test_pred_2, beta = 2)\n",
    "                                      }, \n",
    "                                      index = ['LogReg-Oversampling-Selected Features'])])\n",
    "models_comp"
   ]
  },
  {
   "cell_type": "code",
   "execution_count": 47,
   "id": "c02b4868",
   "metadata": {},
   "outputs": [
    {
     "data": {
      "text/plain": [
       "array([[689, 106],\n",
       "       [ 22, 128]], dtype=int64)"
      ]
     },
     "execution_count": 47,
     "metadata": {},
     "output_type": "execute_result"
    }
   ],
   "source": [
    "#Confusion matrix - model 2\n",
    "confusion_matrix(test['if_churn'], y_test_pred_2)"
   ]
  },
  {
   "cell_type": "code",
   "execution_count": 48,
   "id": "1424b2ed",
   "metadata": {},
   "outputs": [
    {
     "name": "stdout",
     "output_type": "stream",
     "text": [
      "[[ 1.24307168 -0.65926177 -0.97237383 -0.70006307 -1.25875657 -0.79629758\n",
      "   0.19193606 -1.24091944  0.09789018 -0.98389034]]\n",
      "[-1.85846169]\n"
     ]
    }
   ],
   "source": [
    "#Define undersampling strategy\n",
    "from imblearn.under_sampling import RandomUnderSampler\n",
    "undersample = RandomUnderSampler(sampling_strategy = 'majority')\n",
    "\n",
    "#Fit and apply the transform\n",
    "X_train_under_scaled, y_train_under = undersample.fit_resample(X_train_imbalanced_scaled, \n",
    "                                                               y_train)\n",
    "\n",
    "#Feature selection\n",
    "from sklearn.feature_selection import RFECV\n",
    "rfe = RFECV(LogisticRegression(), cv = 10, scoring = 'roc_auc')\n",
    "rfe.fit(X_train_under_scaled, y_train_under)\n",
    "\n",
    "#Selected features indices\n",
    "selected_features_ind = np.where(rfe.support_)\n",
    "\n",
    "#Logistic regression w/ undersampling & feature selection - model 3\n",
    "from sklearn.linear_model import LogisticRegression\n",
    "log_reg = LogisticRegression(penalty = None, #None: no penalty, \n",
    "                                             #'l1': L1 Regularization, \n",
    "                                             #'l2': L2 Regularization\n",
    "                             random_state = 1234,\n",
    "                             max_iter = 200,\n",
    "                             solver = 'saga') #'lbfgs' for small sample, \n",
    "                                              #'saga' for large sample\n",
    "model_3 = log_reg.fit(X_train_under_scaled[:, selected_features_ind[0]], y_train_under)\n",
    "print(model_3.coef_)\n",
    "print(model_3.intercept_)"
   ]
  },
  {
   "cell_type": "code",
   "execution_count": 49,
   "id": "009707c7",
   "metadata": {},
   "outputs": [
    {
     "data": {
      "text/plain": [
       "0.44"
      ]
     },
     "execution_count": 49,
     "metadata": {},
     "output_type": "execute_result"
    }
   ],
   "source": [
    "#Predict probability on train\n",
    "y_train_prob_3 = model_3.predict_proba(X_train_under_scaled[:, selected_features_ind[0]])\n",
    "\n",
    "#Find the optimal cut-off\n",
    "cutoff_3 = find_optimal_cutoff(y_train_under, y_train_prob_3[:, 1])\n",
    "cutoff_3"
   ]
  },
  {
   "cell_type": "code",
   "execution_count": 50,
   "id": "d4d49a34",
   "metadata": {},
   "outputs": [
    {
     "data": {
      "text/plain": [
       "358     0\n",
       "775     0\n",
       "426     1\n",
       "273     0\n",
       "1687    0\n",
       "       ..\n",
       "2505    0\n",
       "1378    1\n",
       "892     1\n",
       "636     1\n",
       "1879    0\n",
       "Length: 945, dtype: int64"
      ]
     },
     "execution_count": 50,
     "metadata": {},
     "output_type": "execute_result"
    }
   ],
   "source": [
    "#Predict probability on test\n",
    "y_test_prob_3 = model_3.predict_proba(X_test_scaled[:, selected_features_ind[0]])\n",
    "\n",
    "#Predict class on test\n",
    "y_test_pred_3 = pd.Series([1 if _ > cutoff_3 else 0 for _ in y_test_prob_3[:, 1]],\n",
    "                          index = test.index)\n",
    "y_test_pred_3"
   ]
  },
  {
   "cell_type": "code",
   "execution_count": 51,
   "id": "b9c9d265",
   "metadata": {},
   "outputs": [
    {
     "data": {
      "text/html": [
       "<div>\n",
       "<style scoped>\n",
       "    .dataframe tbody tr th:only-of-type {\n",
       "        vertical-align: middle;\n",
       "    }\n",
       "\n",
       "    .dataframe tbody tr th {\n",
       "        vertical-align: top;\n",
       "    }\n",
       "\n",
       "    .dataframe thead th {\n",
       "        text-align: right;\n",
       "    }\n",
       "</style>\n",
       "<table border=\"1\" class=\"dataframe\">\n",
       "  <thead>\n",
       "    <tr style=\"text-align: right;\">\n",
       "      <th></th>\n",
       "      <th>Accuracy</th>\n",
       "      <th>Precision</th>\n",
       "      <th>Recall</th>\n",
       "      <th>F1 Score</th>\n",
       "      <th>F2 Score</th>\n",
       "    </tr>\n",
       "  </thead>\n",
       "  <tbody>\n",
       "    <tr>\n",
       "      <th>LogReg-Imbalanced-All Features</th>\n",
       "      <td>0.860317</td>\n",
       "      <td>0.537815</td>\n",
       "      <td>0.853333</td>\n",
       "      <td>0.659794</td>\n",
       "      <td>0.763723</td>\n",
       "    </tr>\n",
       "    <tr>\n",
       "      <th>LogReg-Oversampling-Selected Features</th>\n",
       "      <td>0.864550</td>\n",
       "      <td>0.547009</td>\n",
       "      <td>0.853333</td>\n",
       "      <td>0.666667</td>\n",
       "      <td>0.767386</td>\n",
       "    </tr>\n",
       "    <tr>\n",
       "      <th>LogReg-Undersampling-Selected Features</th>\n",
       "      <td>0.826455</td>\n",
       "      <td>0.475000</td>\n",
       "      <td>0.886667</td>\n",
       "      <td>0.618605</td>\n",
       "      <td>0.755682</td>\n",
       "    </tr>\n",
       "  </tbody>\n",
       "</table>\n",
       "</div>"
      ],
      "text/plain": [
       "                                        Accuracy  Precision    Recall  \\\n",
       "LogReg-Imbalanced-All Features          0.860317   0.537815  0.853333   \n",
       "LogReg-Oversampling-Selected Features   0.864550   0.547009  0.853333   \n",
       "LogReg-Undersampling-Selected Features  0.826455   0.475000  0.886667   \n",
       "\n",
       "                                        F1 Score  F2 Score  \n",
       "LogReg-Imbalanced-All Features          0.659794  0.763723  \n",
       "LogReg-Oversampling-Selected Features   0.666667  0.767386  \n",
       "LogReg-Undersampling-Selected Features  0.618605  0.755682  "
      ]
     },
     "execution_count": 51,
     "metadata": {},
     "output_type": "execute_result"
    }
   ],
   "source": [
    "#Model evaluation on test - model 3\n",
    "models_comp = pd.concat([models_comp,\n",
    "                         pd.DataFrame({'Accuracy': accuracy_score(test['if_churn'], \n",
    "                                                                  y_test_pred_3),\n",
    "                                       'Precision': precision_score(test['if_churn'], \n",
    "                                                                    y_test_pred_3),\n",
    "                                       'Recall': recall_score(test['if_churn'], \n",
    "                                                              y_test_pred_3),\n",
    "                                       'F1 Score': f1_score(test['if_churn'], \n",
    "                                                            y_test_pred_3),\n",
    "                                       'F2 Score': fbeta_score(test['if_churn'], \n",
    "                                                               y_test_pred_3, beta = 2)\n",
    "                                      }, \n",
    "                                      index = ['LogReg-Undersampling-Selected Features'])])\n",
    "models_comp"
   ]
  },
  {
   "cell_type": "code",
   "execution_count": 52,
   "id": "c104573c",
   "metadata": {},
   "outputs": [
    {
     "data": {
      "text/plain": [
       "array([[648, 147],\n",
       "       [ 17, 133]], dtype=int64)"
      ]
     },
     "execution_count": 52,
     "metadata": {},
     "output_type": "execute_result"
    }
   ],
   "source": [
    "#Confusion matrix - model 3\n",
    "confusion_matrix(test['if_churn'], y_test_pred_3)"
   ]
  },
  {
   "cell_type": "markdown",
   "id": "307bcb4b",
   "metadata": {},
   "source": [
    "### Logistic Regression w/ Regularization"
   ]
  },
  {
   "cell_type": "code",
   "execution_count": 53,
   "id": "59b37ee3",
   "metadata": {},
   "outputs": [
    {
     "data": {
      "text/html": [
       "<div>\n",
       "<style scoped>\n",
       "    .dataframe tbody tr th:only-of-type {\n",
       "        vertical-align: middle;\n",
       "    }\n",
       "\n",
       "    .dataframe tbody tr th {\n",
       "        vertical-align: top;\n",
       "    }\n",
       "\n",
       "    .dataframe thead th {\n",
       "        text-align: right;\n",
       "    }\n",
       "</style>\n",
       "<table border=\"1\" class=\"dataframe\">\n",
       "  <thead>\n",
       "    <tr style=\"text-align: right;\">\n",
       "      <th></th>\n",
       "      <th>penalty</th>\n",
       "      <th>c_reg</th>\n",
       "    </tr>\n",
       "  </thead>\n",
       "  <tbody>\n",
       "    <tr>\n",
       "      <th>1</th>\n",
       "      <td>l1</td>\n",
       "      <td>0.001000</td>\n",
       "    </tr>\n",
       "    <tr>\n",
       "      <th>2</th>\n",
       "      <td>l1</td>\n",
       "      <td>0.002069</td>\n",
       "    </tr>\n",
       "    <tr>\n",
       "      <th>3</th>\n",
       "      <td>l1</td>\n",
       "      <td>0.004281</td>\n",
       "    </tr>\n",
       "    <tr>\n",
       "      <th>4</th>\n",
       "      <td>l1</td>\n",
       "      <td>0.008859</td>\n",
       "    </tr>\n",
       "    <tr>\n",
       "      <th>5</th>\n",
       "      <td>l1</td>\n",
       "      <td>0.018330</td>\n",
       "    </tr>\n",
       "    <tr>\n",
       "      <th>6</th>\n",
       "      <td>l1</td>\n",
       "      <td>0.037927</td>\n",
       "    </tr>\n",
       "    <tr>\n",
       "      <th>7</th>\n",
       "      <td>l1</td>\n",
       "      <td>0.078476</td>\n",
       "    </tr>\n",
       "    <tr>\n",
       "      <th>8</th>\n",
       "      <td>l1</td>\n",
       "      <td>0.162378</td>\n",
       "    </tr>\n",
       "    <tr>\n",
       "      <th>9</th>\n",
       "      <td>l1</td>\n",
       "      <td>0.335982</td>\n",
       "    </tr>\n",
       "    <tr>\n",
       "      <th>10</th>\n",
       "      <td>l1</td>\n",
       "      <td>0.695193</td>\n",
       "    </tr>\n",
       "    <tr>\n",
       "      <th>11</th>\n",
       "      <td>l1</td>\n",
       "      <td>1.438450</td>\n",
       "    </tr>\n",
       "    <tr>\n",
       "      <th>12</th>\n",
       "      <td>l1</td>\n",
       "      <td>2.976351</td>\n",
       "    </tr>\n",
       "    <tr>\n",
       "      <th>13</th>\n",
       "      <td>l1</td>\n",
       "      <td>6.158482</td>\n",
       "    </tr>\n",
       "    <tr>\n",
       "      <th>14</th>\n",
       "      <td>l1</td>\n",
       "      <td>12.742750</td>\n",
       "    </tr>\n",
       "    <tr>\n",
       "      <th>15</th>\n",
       "      <td>l1</td>\n",
       "      <td>26.366509</td>\n",
       "    </tr>\n",
       "    <tr>\n",
       "      <th>16</th>\n",
       "      <td>l1</td>\n",
       "      <td>54.555948</td>\n",
       "    </tr>\n",
       "    <tr>\n",
       "      <th>17</th>\n",
       "      <td>l1</td>\n",
       "      <td>112.883789</td>\n",
       "    </tr>\n",
       "    <tr>\n",
       "      <th>18</th>\n",
       "      <td>l1</td>\n",
       "      <td>233.572147</td>\n",
       "    </tr>\n",
       "    <tr>\n",
       "      <th>19</th>\n",
       "      <td>l1</td>\n",
       "      <td>483.293024</td>\n",
       "    </tr>\n",
       "    <tr>\n",
       "      <th>20</th>\n",
       "      <td>l1</td>\n",
       "      <td>1000.000000</td>\n",
       "    </tr>\n",
       "    <tr>\n",
       "      <th>21</th>\n",
       "      <td>l2</td>\n",
       "      <td>0.001000</td>\n",
       "    </tr>\n",
       "    <tr>\n",
       "      <th>22</th>\n",
       "      <td>l2</td>\n",
       "      <td>0.002069</td>\n",
       "    </tr>\n",
       "    <tr>\n",
       "      <th>23</th>\n",
       "      <td>l2</td>\n",
       "      <td>0.004281</td>\n",
       "    </tr>\n",
       "    <tr>\n",
       "      <th>24</th>\n",
       "      <td>l2</td>\n",
       "      <td>0.008859</td>\n",
       "    </tr>\n",
       "    <tr>\n",
       "      <th>25</th>\n",
       "      <td>l2</td>\n",
       "      <td>0.018330</td>\n",
       "    </tr>\n",
       "    <tr>\n",
       "      <th>26</th>\n",
       "      <td>l2</td>\n",
       "      <td>0.037927</td>\n",
       "    </tr>\n",
       "    <tr>\n",
       "      <th>27</th>\n",
       "      <td>l2</td>\n",
       "      <td>0.078476</td>\n",
       "    </tr>\n",
       "    <tr>\n",
       "      <th>28</th>\n",
       "      <td>l2</td>\n",
       "      <td>0.162378</td>\n",
       "    </tr>\n",
       "    <tr>\n",
       "      <th>29</th>\n",
       "      <td>l2</td>\n",
       "      <td>0.335982</td>\n",
       "    </tr>\n",
       "    <tr>\n",
       "      <th>30</th>\n",
       "      <td>l2</td>\n",
       "      <td>0.695193</td>\n",
       "    </tr>\n",
       "    <tr>\n",
       "      <th>31</th>\n",
       "      <td>l2</td>\n",
       "      <td>1.438450</td>\n",
       "    </tr>\n",
       "    <tr>\n",
       "      <th>32</th>\n",
       "      <td>l2</td>\n",
       "      <td>2.976351</td>\n",
       "    </tr>\n",
       "    <tr>\n",
       "      <th>33</th>\n",
       "      <td>l2</td>\n",
       "      <td>6.158482</td>\n",
       "    </tr>\n",
       "    <tr>\n",
       "      <th>34</th>\n",
       "      <td>l2</td>\n",
       "      <td>12.742750</td>\n",
       "    </tr>\n",
       "    <tr>\n",
       "      <th>35</th>\n",
       "      <td>l2</td>\n",
       "      <td>26.366509</td>\n",
       "    </tr>\n",
       "    <tr>\n",
       "      <th>36</th>\n",
       "      <td>l2</td>\n",
       "      <td>54.555948</td>\n",
       "    </tr>\n",
       "    <tr>\n",
       "      <th>37</th>\n",
       "      <td>l2</td>\n",
       "      <td>112.883789</td>\n",
       "    </tr>\n",
       "    <tr>\n",
       "      <th>38</th>\n",
       "      <td>l2</td>\n",
       "      <td>233.572147</td>\n",
       "    </tr>\n",
       "    <tr>\n",
       "      <th>39</th>\n",
       "      <td>l2</td>\n",
       "      <td>483.293024</td>\n",
       "    </tr>\n",
       "    <tr>\n",
       "      <th>40</th>\n",
       "      <td>l2</td>\n",
       "      <td>1000.000000</td>\n",
       "    </tr>\n",
       "  </tbody>\n",
       "</table>\n",
       "</div>"
      ],
      "text/plain": [
       "   penalty        c_reg\n",
       "1       l1     0.001000\n",
       "2       l1     0.002069\n",
       "3       l1     0.004281\n",
       "4       l1     0.008859\n",
       "5       l1     0.018330\n",
       "6       l1     0.037927\n",
       "7       l1     0.078476\n",
       "8       l1     0.162378\n",
       "9       l1     0.335982\n",
       "10      l1     0.695193\n",
       "11      l1     1.438450\n",
       "12      l1     2.976351\n",
       "13      l1     6.158482\n",
       "14      l1    12.742750\n",
       "15      l1    26.366509\n",
       "16      l1    54.555948\n",
       "17      l1   112.883789\n",
       "18      l1   233.572147\n",
       "19      l1   483.293024\n",
       "20      l1  1000.000000\n",
       "21      l2     0.001000\n",
       "22      l2     0.002069\n",
       "23      l2     0.004281\n",
       "24      l2     0.008859\n",
       "25      l2     0.018330\n",
       "26      l2     0.037927\n",
       "27      l2     0.078476\n",
       "28      l2     0.162378\n",
       "29      l2     0.335982\n",
       "30      l2     0.695193\n",
       "31      l2     1.438450\n",
       "32      l2     2.976351\n",
       "33      l2     6.158482\n",
       "34      l2    12.742750\n",
       "35      l2    26.366509\n",
       "36      l2    54.555948\n",
       "37      l2   112.883789\n",
       "38      l2   233.572147\n",
       "39      l2   483.293024\n",
       "40      l2  1000.000000"
      ]
     },
     "execution_count": 53,
     "metadata": {},
     "output_type": "execute_result"
    }
   ],
   "source": [
    "#Create hyper-parameters grid\n",
    "import itertools\n",
    "penalty = ['l1', 'l2']\n",
    "#C: Inverse of regularization strength; \n",
    "#  smaller values specify stronger regularization.\n",
    "c_reg = 10 ** np.linspace(-3, 3, 20)\n",
    "params_grid = list(itertools.product(penalty, c_reg))\n",
    "params_grid = pd.DataFrame(data = params_grid,\n",
    "                           index = range(1, 41), \n",
    "                           columns = ['penalty', 'c_reg'])\n",
    "params_grid"
   ]
  },
  {
   "cell_type": "code",
   "execution_count": 54,
   "id": "0d9558c0",
   "metadata": {},
   "outputs": [
    {
     "name": "stdout",
     "output_type": "stream",
     "text": [
      "The Processing time is:  14.477288007736206 seconds\n"
     ]
    }
   ],
   "source": [
    "#K-fold cross validation to choose the best model\n",
    "from sklearn.model_selection import cross_val_score\n",
    "\n",
    "cv_scores = np.zeros(shape = len(params_grid)) #to save cv results\n",
    "\n",
    "import time #to measure the processing time\n",
    "start_time = time.time()\n",
    "for i in range(len(params_grid)):\n",
    "    log_reg = LogisticRegression(penalty = params_grid.iloc[i, 0],\n",
    "                                 C = params_grid.iloc[i, 1],\n",
    "                                 max_iter = 100,\n",
    "                                 solver = 'saga')\n",
    "    scores = cross_val_score(estimator = log_reg, \n",
    "                             X = X_train_under_scaled, \n",
    "                             y = y_train_under,\n",
    "                             scoring = 'roc_auc',\n",
    "                             cv = 10, n_jobs = -1)\n",
    "    cv_scores[i] = scores.mean()\n",
    "end_time = time.time()\n",
    "print('The Processing time is: ', end_time - start_time, 'seconds')"
   ]
  },
  {
   "cell_type": "code",
   "execution_count": 55,
   "id": "dab5a0d0",
   "metadata": {},
   "outputs": [
    {
     "data": {
      "text/plain": [
       "penalty          l1\n",
       "c_reg      12.74275\n",
       "Name: 14, dtype: object"
      ]
     },
     "execution_count": 55,
     "metadata": {},
     "output_type": "execute_result"
    }
   ],
   "source": [
    "#Best model\n",
    "params_grid.iloc[np.argmax(cv_scores), :]"
   ]
  },
  {
   "cell_type": "code",
   "execution_count": 56,
   "id": "435e6f63",
   "metadata": {},
   "outputs": [
    {
     "name": "stdout",
     "output_type": "stream",
     "text": [
      "[[ 1.27047284 -0.65710098 -1.02202554  0.40132827 -1.06164341 -1.26811901\n",
      "  -0.77342716  0.19233347 -1.22704473  0.04812208 -0.98496766]]\n",
      "[-1.84257666]\n"
     ]
    }
   ],
   "source": [
    "#Train model 4\n",
    "log_reg = LogisticRegression(penalty = params_grid.iloc[np.argmax(cv_scores), 0],\n",
    "                             C = params_grid.iloc[np.argmax(cv_scores), 1],\n",
    "                             random_state = 1234,\n",
    "                             max_iter = 500,\n",
    "                             solver = 'saga')\n",
    "model_4 = log_reg.fit(X_train_under_scaled, y_train_under)\n",
    "print(model_4.coef_)\n",
    "print(model_4.intercept_)"
   ]
  },
  {
   "cell_type": "code",
   "execution_count": 57,
   "id": "b8ad180b",
   "metadata": {},
   "outputs": [
    {
     "data": {
      "text/plain": [
       "0.612"
      ]
     },
     "execution_count": 57,
     "metadata": {},
     "output_type": "execute_result"
    }
   ],
   "source": [
    "#Predict probability on train\n",
    "y_train_prob_4 = model_4.predict_proba(X_train_under_scaled)\n",
    "\n",
    "#Find the optimal cut-off\n",
    "cutoff_4 = find_optimal_cutoff(y_train_under, y_train_prob_4[:, 1])\n",
    "cutoff_4"
   ]
  },
  {
   "cell_type": "code",
   "execution_count": 58,
   "id": "d51d08f9",
   "metadata": {},
   "outputs": [
    {
     "data": {
      "text/plain": [
       "358     0\n",
       "775     0\n",
       "426     1\n",
       "273     0\n",
       "1687    0\n",
       "       ..\n",
       "2505    0\n",
       "1378    1\n",
       "892     0\n",
       "636     1\n",
       "1879    0\n",
       "Length: 945, dtype: int64"
      ]
     },
     "execution_count": 58,
     "metadata": {},
     "output_type": "execute_result"
    }
   ],
   "source": [
    "#Predict probability on test\n",
    "y_test_prob_4 = model_4.predict_proba(X_test_scaled)\n",
    "\n",
    "#Predict class on test\n",
    "y_test_pred_4 = pd.Series([1 if _ > cutoff_4 else 0 for _ in y_test_prob_4[:, 1]],\n",
    "                          index = test.index)\n",
    "y_test_pred_4"
   ]
  },
  {
   "cell_type": "code",
   "execution_count": 59,
   "id": "a62d2b24",
   "metadata": {},
   "outputs": [
    {
     "data": {
      "text/html": [
       "<div>\n",
       "<style scoped>\n",
       "    .dataframe tbody tr th:only-of-type {\n",
       "        vertical-align: middle;\n",
       "    }\n",
       "\n",
       "    .dataframe tbody tr th {\n",
       "        vertical-align: top;\n",
       "    }\n",
       "\n",
       "    .dataframe thead th {\n",
       "        text-align: right;\n",
       "    }\n",
       "</style>\n",
       "<table border=\"1\" class=\"dataframe\">\n",
       "  <thead>\n",
       "    <tr style=\"text-align: right;\">\n",
       "      <th></th>\n",
       "      <th>Accuracy</th>\n",
       "      <th>Precision</th>\n",
       "      <th>Recall</th>\n",
       "      <th>F1 Score</th>\n",
       "      <th>F2 Score</th>\n",
       "    </tr>\n",
       "  </thead>\n",
       "  <tbody>\n",
       "    <tr>\n",
       "      <th>LogReg-Imbalanced-All Features</th>\n",
       "      <td>0.860317</td>\n",
       "      <td>0.537815</td>\n",
       "      <td>0.853333</td>\n",
       "      <td>0.659794</td>\n",
       "      <td>0.763723</td>\n",
       "    </tr>\n",
       "    <tr>\n",
       "      <th>LogReg-Oversampling-Selected Features</th>\n",
       "      <td>0.864550</td>\n",
       "      <td>0.547009</td>\n",
       "      <td>0.853333</td>\n",
       "      <td>0.666667</td>\n",
       "      <td>0.767386</td>\n",
       "    </tr>\n",
       "    <tr>\n",
       "      <th>LogReg-Undersampling-Selected Features</th>\n",
       "      <td>0.826455</td>\n",
       "      <td>0.475000</td>\n",
       "      <td>0.886667</td>\n",
       "      <td>0.618605</td>\n",
       "      <td>0.755682</td>\n",
       "    </tr>\n",
       "    <tr>\n",
       "      <th>LogReg-Undersampling-w/ Regularization</th>\n",
       "      <td>0.868783</td>\n",
       "      <td>0.556522</td>\n",
       "      <td>0.853333</td>\n",
       "      <td>0.673684</td>\n",
       "      <td>0.771084</td>\n",
       "    </tr>\n",
       "  </tbody>\n",
       "</table>\n",
       "</div>"
      ],
      "text/plain": [
       "                                        Accuracy  Precision    Recall  \\\n",
       "LogReg-Imbalanced-All Features          0.860317   0.537815  0.853333   \n",
       "LogReg-Oversampling-Selected Features   0.864550   0.547009  0.853333   \n",
       "LogReg-Undersampling-Selected Features  0.826455   0.475000  0.886667   \n",
       "LogReg-Undersampling-w/ Regularization  0.868783   0.556522  0.853333   \n",
       "\n",
       "                                        F1 Score  F2 Score  \n",
       "LogReg-Imbalanced-All Features          0.659794  0.763723  \n",
       "LogReg-Oversampling-Selected Features   0.666667  0.767386  \n",
       "LogReg-Undersampling-Selected Features  0.618605  0.755682  \n",
       "LogReg-Undersampling-w/ Regularization  0.673684  0.771084  "
      ]
     },
     "execution_count": 59,
     "metadata": {},
     "output_type": "execute_result"
    }
   ],
   "source": [
    "#Model evaluation on test - model 4\n",
    "models_comp = pd.concat([models_comp,\n",
    "                         pd.DataFrame({'Accuracy': accuracy_score(test['if_churn'], \n",
    "                                                                  y_test_pred_4),\n",
    "                                       'Precision': precision_score(test['if_churn'], \n",
    "                                                                    y_test_pred_4),\n",
    "                                       'Recall': recall_score(test['if_churn'], \n",
    "                                                              y_test_pred_4),\n",
    "                                       'F1 Score': f1_score(test['if_churn'], \n",
    "                                                            y_test_pred_4),\n",
    "                                       'F2 Score': fbeta_score(test['if_churn'], \n",
    "                                                               y_test_pred_4, beta = 2)\n",
    "                                      }, \n",
    "                                      index = ['LogReg-Undersampling-w/ Regularization'])])\n",
    "models_comp"
   ]
  },
  {
   "cell_type": "code",
   "execution_count": 60,
   "id": "980dac02",
   "metadata": {},
   "outputs": [
    {
     "data": {
      "text/plain": [
       "array([[693, 102],\n",
       "       [ 22, 128]], dtype=int64)"
      ]
     },
     "execution_count": 60,
     "metadata": {},
     "output_type": "execute_result"
    }
   ],
   "source": [
    "#Confusion matrix - model 4\n",
    "confusion_matrix(test['if_churn'], y_test_pred_4)"
   ]
  },
  {
   "cell_type": "code",
   "execution_count": 61,
   "id": "fb922d39",
   "metadata": {},
   "outputs": [
    {
     "name": "stdout",
     "output_type": "stream",
     "text": [
      "[[ 0.97962014 -0.35494426 -0.86055128  1.59479456 -3.10769775 -1.32347678\n",
      "  -0.17350959 -0.06240147 -1.03074587 -0.16990688 -0.5559783 ]]\n",
      "[-3.53242923]\n"
     ]
    }
   ],
   "source": [
    "#Logistic regression/imbalanced data - model 5\n",
    "from sklearn.linear_model import LogisticRegression\n",
    "log_reg = LogisticRegression(penalty = None, #None: no penalty, \n",
    "                                             #'l1': L1 Regularization, \n",
    "                                             #'l2': L2 Regularization\n",
    "                             random_state = 1234,\n",
    "                             class_weight = 'balanced',\n",
    "                             max_iter = 200,\n",
    "                             solver = 'saga')#'lbfgs' for small sample, \n",
    "                                             #'saga' for large sample\n",
    "model_5 = log_reg.fit(X_train_imbalanced_scaled, y_train)\n",
    "print(model_1.coef_)\n",
    "print(model_1.intercept_)"
   ]
  },
  {
   "cell_type": "code",
   "execution_count": 62,
   "id": "0aec5284",
   "metadata": {},
   "outputs": [
    {
     "data": {
      "text/plain": [
       "0.564"
      ]
     },
     "execution_count": 62,
     "metadata": {},
     "output_type": "execute_result"
    }
   ],
   "source": [
    "#Predict probability on train\n",
    "y_train_prob_5 = model_5.predict_proba(X_train_imbalanced_scaled)\n",
    "\n",
    "#Find the optimal cut-off\n",
    "cutoff_5 = find_optimal_cutoff(y_train, y_train_prob_5[:, 1])\n",
    "cutoff_5"
   ]
  },
  {
   "cell_type": "code",
   "execution_count": 63,
   "id": "4ab9a983",
   "metadata": {},
   "outputs": [
    {
     "data": {
      "text/plain": [
       "358     0\n",
       "775     0\n",
       "426     1\n",
       "273     0\n",
       "1687    0\n",
       "       ..\n",
       "2505    0\n",
       "1378    1\n",
       "892     0\n",
       "636     1\n",
       "1879    0\n",
       "Length: 945, dtype: int64"
      ]
     },
     "execution_count": 63,
     "metadata": {},
     "output_type": "execute_result"
    }
   ],
   "source": [
    "#Predict probability on test\n",
    "y_test_prob_5 = model_5.predict_proba(X_test_scaled)\n",
    "\n",
    "#Predict class on test\n",
    "y_test_pred_5 = pd.Series([1 if _ > cutoff_5 else 0 for _ in y_test_prob_5[:, 1]],\n",
    "                          index = test.index)\n",
    "y_test_pred_5"
   ]
  },
  {
   "cell_type": "code",
   "execution_count": 64,
   "id": "16e599f2",
   "metadata": {},
   "outputs": [
    {
     "data": {
      "text/html": [
       "<div>\n",
       "<style scoped>\n",
       "    .dataframe tbody tr th:only-of-type {\n",
       "        vertical-align: middle;\n",
       "    }\n",
       "\n",
       "    .dataframe tbody tr th {\n",
       "        vertical-align: top;\n",
       "    }\n",
       "\n",
       "    .dataframe thead th {\n",
       "        text-align: right;\n",
       "    }\n",
       "</style>\n",
       "<table border=\"1\" class=\"dataframe\">\n",
       "  <thead>\n",
       "    <tr style=\"text-align: right;\">\n",
       "      <th></th>\n",
       "      <th>Accuracy</th>\n",
       "      <th>Precision</th>\n",
       "      <th>Recall</th>\n",
       "      <th>F1 Score</th>\n",
       "      <th>F2 Score</th>\n",
       "    </tr>\n",
       "  </thead>\n",
       "  <tbody>\n",
       "    <tr>\n",
       "      <th>LogReg-Imbalanced-All Features</th>\n",
       "      <td>0.860317</td>\n",
       "      <td>0.537815</td>\n",
       "      <td>0.853333</td>\n",
       "      <td>0.659794</td>\n",
       "      <td>0.763723</td>\n",
       "    </tr>\n",
       "    <tr>\n",
       "      <th>LogReg-Oversampling-Selected Features</th>\n",
       "      <td>0.864550</td>\n",
       "      <td>0.547009</td>\n",
       "      <td>0.853333</td>\n",
       "      <td>0.666667</td>\n",
       "      <td>0.767386</td>\n",
       "    </tr>\n",
       "    <tr>\n",
       "      <th>LogReg-Undersampling-Selected Features</th>\n",
       "      <td>0.826455</td>\n",
       "      <td>0.475000</td>\n",
       "      <td>0.886667</td>\n",
       "      <td>0.618605</td>\n",
       "      <td>0.755682</td>\n",
       "    </tr>\n",
       "    <tr>\n",
       "      <th>LogReg-Undersampling-w/ Regularization</th>\n",
       "      <td>0.868783</td>\n",
       "      <td>0.556522</td>\n",
       "      <td>0.853333</td>\n",
       "      <td>0.673684</td>\n",
       "      <td>0.771084</td>\n",
       "    </tr>\n",
       "    <tr>\n",
       "      <th>LogReg-Class Weight-All Features</th>\n",
       "      <td>0.862434</td>\n",
       "      <td>0.542373</td>\n",
       "      <td>0.853333</td>\n",
       "      <td>0.663212</td>\n",
       "      <td>0.765550</td>\n",
       "    </tr>\n",
       "  </tbody>\n",
       "</table>\n",
       "</div>"
      ],
      "text/plain": [
       "                                        Accuracy  Precision    Recall  \\\n",
       "LogReg-Imbalanced-All Features          0.860317   0.537815  0.853333   \n",
       "LogReg-Oversampling-Selected Features   0.864550   0.547009  0.853333   \n",
       "LogReg-Undersampling-Selected Features  0.826455   0.475000  0.886667   \n",
       "LogReg-Undersampling-w/ Regularization  0.868783   0.556522  0.853333   \n",
       "LogReg-Class Weight-All Features        0.862434   0.542373  0.853333   \n",
       "\n",
       "                                        F1 Score  F2 Score  \n",
       "LogReg-Imbalanced-All Features          0.659794  0.763723  \n",
       "LogReg-Oversampling-Selected Features   0.666667  0.767386  \n",
       "LogReg-Undersampling-Selected Features  0.618605  0.755682  \n",
       "LogReg-Undersampling-w/ Regularization  0.673684  0.771084  \n",
       "LogReg-Class Weight-All Features        0.663212  0.765550  "
      ]
     },
     "execution_count": 64,
     "metadata": {},
     "output_type": "execute_result"
    }
   ],
   "source": [
    "#Model evaluation on test - model 5\n",
    "models_comp = pd.concat([models_comp,\n",
    "                         pd.DataFrame({'Accuracy': accuracy_score(test['if_churn'], \n",
    "                                                                  y_test_pred_5),\n",
    "                                       'Precision': precision_score(test['if_churn'], \n",
    "                                                                    y_test_pred_5),\n",
    "                                       'Recall': recall_score(test['if_churn'], \n",
    "                                                              y_test_pred_5),\n",
    "                                       'F1 Score': f1_score(test['if_churn'], \n",
    "                                                            y_test_pred_5),\n",
    "                                       'F2 Score': fbeta_score(test['if_churn'], \n",
    "                                                               y_test_pred_5, beta = 2)\n",
    "                                      }, \n",
    "                                      index = ['LogReg-Class Weight-All Features'])])\n",
    "models_comp"
   ]
  },
  {
   "cell_type": "code",
   "execution_count": 65,
   "id": "ddf1208c",
   "metadata": {},
   "outputs": [
    {
     "data": {
      "text/plain": [
       "array([[687, 108],\n",
       "       [ 22, 128]], dtype=int64)"
      ]
     },
     "execution_count": 65,
     "metadata": {},
     "output_type": "execute_result"
    }
   ],
   "source": [
    "#Confusion matrix - model 5\n",
    "confusion_matrix(test['if_churn'], y_test_pred_5)"
   ]
  },
  {
   "cell_type": "markdown",
   "id": "901154be",
   "metadata": {},
   "source": [
    "### kNN Classifier"
   ]
  },
  {
   "cell_type": "code",
   "execution_count": 66,
   "id": "fdffe038",
   "metadata": {},
   "outputs": [],
   "source": [
    "#%pip install gower\n",
    "import gower"
   ]
  },
  {
   "cell_type": "code",
   "execution_count": 67,
   "id": "ababc3da",
   "metadata": {},
   "outputs": [
    {
     "name": "stdout",
     "output_type": "stream",
     "text": [
      "(3720, 11)\n",
      "(3720, 3720)\n"
     ]
    }
   ],
   "source": [
    "#Calculate distance matrix based on Gower distance\n",
    "train_dist_matrix = gower.gower_matrix(X_train_over_scaled, \n",
    "                                       cat_features = [False] * 8 + [True] * 3)\n",
    "print(X_train_over_scaled.shape)\n",
    "print(train_dist_matrix.shape)"
   ]
  },
  {
   "cell_type": "code",
   "execution_count": 68,
   "id": "ab26b863",
   "metadata": {},
   "outputs": [],
   "source": [
    "#kNN classifier/Oversampling data - model 6\n",
    "from sklearn.neighbors import KNeighborsClassifier\n",
    "knn_classifier = KNeighborsClassifier(n_neighbors = 9, \n",
    "                                      weights = 'uniform',\n",
    "                                      algorithm = 'auto',  \n",
    "                                      metric = 'precomputed')\n",
    "model_6 = knn_classifier.fit(train_dist_matrix, y_train_over)"
   ]
  },
  {
   "cell_type": "code",
   "execution_count": 69,
   "id": "7f242a51",
   "metadata": {},
   "outputs": [
    {
     "name": "stdout",
     "output_type": "stream",
     "text": [
      "(3720, 11)\n",
      "(945, 11)\n",
      "(945, 3720)\n"
     ]
    }
   ],
   "source": [
    "#Calculate distance matrix based on Gower distance\n",
    "test_train_dist_matrix = gower.gower_matrix(X_test_scaled,\n",
    "                                            X_train_over_scaled,\n",
    "                                            cat_features = [False] * 8 + [True] * 3)\n",
    "print(X_train_over_scaled.shape)\n",
    "print(X_test_scaled.shape)\n",
    "print(test_train_dist_matrix.shape)"
   ]
  },
  {
   "cell_type": "code",
   "execution_count": 70,
   "id": "48fb8724",
   "metadata": {},
   "outputs": [
    {
     "data": {
      "text/plain": [
       "358     0\n",
       "775     0\n",
       "426     1\n",
       "273     0\n",
       "1687    0\n",
       "       ..\n",
       "2505    0\n",
       "1378    1\n",
       "892     0\n",
       "636     1\n",
       "1879    1\n",
       "Length: 945, dtype: int64"
      ]
     },
     "execution_count": 70,
     "metadata": {},
     "output_type": "execute_result"
    }
   ],
   "source": [
    "#Predict on test\n",
    "y_test_pred_6 = pd.Series(model_6.predict(test_train_dist_matrix), index = test.index)\n",
    "y_test_pred_6"
   ]
  },
  {
   "cell_type": "code",
   "execution_count": 71,
   "id": "62f7726a",
   "metadata": {},
   "outputs": [
    {
     "data": {
      "text/html": [
       "<div>\n",
       "<style scoped>\n",
       "    .dataframe tbody tr th:only-of-type {\n",
       "        vertical-align: middle;\n",
       "    }\n",
       "\n",
       "    .dataframe tbody tr th {\n",
       "        vertical-align: top;\n",
       "    }\n",
       "\n",
       "    .dataframe thead th {\n",
       "        text-align: right;\n",
       "    }\n",
       "</style>\n",
       "<table border=\"1\" class=\"dataframe\">\n",
       "  <thead>\n",
       "    <tr style=\"text-align: right;\">\n",
       "      <th></th>\n",
       "      <th>Accuracy</th>\n",
       "      <th>Precision</th>\n",
       "      <th>Recall</th>\n",
       "      <th>F1 Score</th>\n",
       "      <th>F2 Score</th>\n",
       "    </tr>\n",
       "  </thead>\n",
       "  <tbody>\n",
       "    <tr>\n",
       "      <th>LogReg-Imbalanced-All Features</th>\n",
       "      <td>0.860317</td>\n",
       "      <td>0.537815</td>\n",
       "      <td>0.853333</td>\n",
       "      <td>0.659794</td>\n",
       "      <td>0.763723</td>\n",
       "    </tr>\n",
       "    <tr>\n",
       "      <th>LogReg-Oversampling-Selected Features</th>\n",
       "      <td>0.864550</td>\n",
       "      <td>0.547009</td>\n",
       "      <td>0.853333</td>\n",
       "      <td>0.666667</td>\n",
       "      <td>0.767386</td>\n",
       "    </tr>\n",
       "    <tr>\n",
       "      <th>LogReg-Undersampling-Selected Features</th>\n",
       "      <td>0.826455</td>\n",
       "      <td>0.475000</td>\n",
       "      <td>0.886667</td>\n",
       "      <td>0.618605</td>\n",
       "      <td>0.755682</td>\n",
       "    </tr>\n",
       "    <tr>\n",
       "      <th>LogReg-Undersampling-w/ Regularization</th>\n",
       "      <td>0.868783</td>\n",
       "      <td>0.556522</td>\n",
       "      <td>0.853333</td>\n",
       "      <td>0.673684</td>\n",
       "      <td>0.771084</td>\n",
       "    </tr>\n",
       "    <tr>\n",
       "      <th>LogReg-Class Weight-All Features</th>\n",
       "      <td>0.862434</td>\n",
       "      <td>0.542373</td>\n",
       "      <td>0.853333</td>\n",
       "      <td>0.663212</td>\n",
       "      <td>0.765550</td>\n",
       "    </tr>\n",
       "    <tr>\n",
       "      <th>kNN-Oversampling-Not Tuned</th>\n",
       "      <td>0.904762</td>\n",
       "      <td>0.633929</td>\n",
       "      <td>0.946667</td>\n",
       "      <td>0.759358</td>\n",
       "      <td>0.861650</td>\n",
       "    </tr>\n",
       "  </tbody>\n",
       "</table>\n",
       "</div>"
      ],
      "text/plain": [
       "                                        Accuracy  Precision    Recall  \\\n",
       "LogReg-Imbalanced-All Features          0.860317   0.537815  0.853333   \n",
       "LogReg-Oversampling-Selected Features   0.864550   0.547009  0.853333   \n",
       "LogReg-Undersampling-Selected Features  0.826455   0.475000  0.886667   \n",
       "LogReg-Undersampling-w/ Regularization  0.868783   0.556522  0.853333   \n",
       "LogReg-Class Weight-All Features        0.862434   0.542373  0.853333   \n",
       "kNN-Oversampling-Not Tuned              0.904762   0.633929  0.946667   \n",
       "\n",
       "                                        F1 Score  F2 Score  \n",
       "LogReg-Imbalanced-All Features          0.659794  0.763723  \n",
       "LogReg-Oversampling-Selected Features   0.666667  0.767386  \n",
       "LogReg-Undersampling-Selected Features  0.618605  0.755682  \n",
       "LogReg-Undersampling-w/ Regularization  0.673684  0.771084  \n",
       "LogReg-Class Weight-All Features        0.663212  0.765550  \n",
       "kNN-Oversampling-Not Tuned              0.759358  0.861650  "
      ]
     },
     "execution_count": 71,
     "metadata": {},
     "output_type": "execute_result"
    }
   ],
   "source": [
    "#Model evaluation on test - model 6\n",
    "models_comp = pd.concat([models_comp,\n",
    "                         pd.DataFrame({'Accuracy': accuracy_score(test['if_churn'], \n",
    "                                                                  y_test_pred_6),\n",
    "                                       'Precision': precision_score(test['if_churn'], \n",
    "                                                                    y_test_pred_6),\n",
    "                                       'Recall': recall_score(test['if_churn'], \n",
    "                                                              y_test_pred_6),\n",
    "                                       'F1 Score': f1_score(test['if_churn'], \n",
    "                                                            y_test_pred_6),\n",
    "                                       'F2 Score': fbeta_score(test['if_churn'], \n",
    "                                                               y_test_pred_6, beta = 2)\n",
    "                                      }, \n",
    "                                      index = ['kNN-Oversampling-Not Tuned'])])\n",
    "models_comp"
   ]
  },
  {
   "cell_type": "code",
   "execution_count": 72,
   "id": "ab19049d",
   "metadata": {},
   "outputs": [
    {
     "data": {
      "text/plain": [
       "array([[713,  82],\n",
       "       [  8, 142]], dtype=int64)"
      ]
     },
     "execution_count": 72,
     "metadata": {},
     "output_type": "execute_result"
    }
   ],
   "source": [
    "#Confusion matrix - model 6\n",
    "confusion_matrix(test['if_churn'], y_test_pred_6)"
   ]
  },
  {
   "cell_type": "markdown",
   "id": "ae64534a",
   "metadata": {},
   "source": [
    "### Random Forest"
   ]
  },
  {
   "cell_type": "code",
   "execution_count": 73,
   "id": "8b8ce50f",
   "metadata": {},
   "outputs": [],
   "source": [
    "#Sample Random Forest model (not tuned)\n",
    "from sklearn.ensemble import RandomForestClassifier\n",
    "rf_classifier = RandomForestClassifier(n_estimators = 200,\n",
    "                                       max_features = 4, \n",
    "                                       criterion = 'gini',\n",
    "                                       max_depth = 10, \n",
    "                                       min_samples_leaf = 15, \n",
    "                                       ccp_alpha = 0,\n",
    "                                       class_weight = 'balanced',\n",
    "                                       random_state = 1234)\n",
    "model_7 = rf_classifier.fit(X_train_imbalanced, y_train)"
   ]
  },
  {
   "cell_type": "code",
   "execution_count": 74,
   "id": "d6994a46",
   "metadata": {},
   "outputs": [
    {
     "data": {
      "text/plain": [
       "358     0\n",
       "775     0\n",
       "426     1\n",
       "273     0\n",
       "1687    0\n",
       "       ..\n",
       "2505    0\n",
       "1378    1\n",
       "892     0\n",
       "636     1\n",
       "1879    0\n",
       "Length: 945, dtype: int64"
      ]
     },
     "execution_count": 74,
     "metadata": {},
     "output_type": "execute_result"
    }
   ],
   "source": [
    "#Predict probability on test\n",
    "y_test_pred_7 = pd.Series(model_7.predict(X_test), index = test.index)\n",
    "y_test_pred_7"
   ]
  },
  {
   "cell_type": "code",
   "execution_count": 75,
   "id": "17ad0c51",
   "metadata": {},
   "outputs": [
    {
     "data": {
      "text/html": [
       "<div>\n",
       "<style scoped>\n",
       "    .dataframe tbody tr th:only-of-type {\n",
       "        vertical-align: middle;\n",
       "    }\n",
       "\n",
       "    .dataframe tbody tr th {\n",
       "        vertical-align: top;\n",
       "    }\n",
       "\n",
       "    .dataframe thead th {\n",
       "        text-align: right;\n",
       "    }\n",
       "</style>\n",
       "<table border=\"1\" class=\"dataframe\">\n",
       "  <thead>\n",
       "    <tr style=\"text-align: right;\">\n",
       "      <th></th>\n",
       "      <th>Accuracy</th>\n",
       "      <th>Precision</th>\n",
       "      <th>Recall</th>\n",
       "      <th>F1 Score</th>\n",
       "      <th>F2 Score</th>\n",
       "    </tr>\n",
       "  </thead>\n",
       "  <tbody>\n",
       "    <tr>\n",
       "      <th>LogReg-Imbalanced-All Features</th>\n",
       "      <td>0.860317</td>\n",
       "      <td>0.537815</td>\n",
       "      <td>0.853333</td>\n",
       "      <td>0.659794</td>\n",
       "      <td>0.763723</td>\n",
       "    </tr>\n",
       "    <tr>\n",
       "      <th>LogReg-Oversampling-Selected Features</th>\n",
       "      <td>0.864550</td>\n",
       "      <td>0.547009</td>\n",
       "      <td>0.853333</td>\n",
       "      <td>0.666667</td>\n",
       "      <td>0.767386</td>\n",
       "    </tr>\n",
       "    <tr>\n",
       "      <th>LogReg-Undersampling-Selected Features</th>\n",
       "      <td>0.826455</td>\n",
       "      <td>0.475000</td>\n",
       "      <td>0.886667</td>\n",
       "      <td>0.618605</td>\n",
       "      <td>0.755682</td>\n",
       "    </tr>\n",
       "    <tr>\n",
       "      <th>LogReg-Undersampling-w/ Regularization</th>\n",
       "      <td>0.868783</td>\n",
       "      <td>0.556522</td>\n",
       "      <td>0.853333</td>\n",
       "      <td>0.673684</td>\n",
       "      <td>0.771084</td>\n",
       "    </tr>\n",
       "    <tr>\n",
       "      <th>LogReg-Class Weight-All Features</th>\n",
       "      <td>0.862434</td>\n",
       "      <td>0.542373</td>\n",
       "      <td>0.853333</td>\n",
       "      <td>0.663212</td>\n",
       "      <td>0.765550</td>\n",
       "    </tr>\n",
       "    <tr>\n",
       "      <th>kNN-Oversampling-Not Tuned</th>\n",
       "      <td>0.904762</td>\n",
       "      <td>0.633929</td>\n",
       "      <td>0.946667</td>\n",
       "      <td>0.759358</td>\n",
       "      <td>0.861650</td>\n",
       "    </tr>\n",
       "    <tr>\n",
       "      <th>Random Forest-Class Weight-Not Tuned</th>\n",
       "      <td>0.918519</td>\n",
       "      <td>0.689119</td>\n",
       "      <td>0.886667</td>\n",
       "      <td>0.775510</td>\n",
       "      <td>0.838588</td>\n",
       "    </tr>\n",
       "  </tbody>\n",
       "</table>\n",
       "</div>"
      ],
      "text/plain": [
       "                                        Accuracy  Precision    Recall  \\\n",
       "LogReg-Imbalanced-All Features          0.860317   0.537815  0.853333   \n",
       "LogReg-Oversampling-Selected Features   0.864550   0.547009  0.853333   \n",
       "LogReg-Undersampling-Selected Features  0.826455   0.475000  0.886667   \n",
       "LogReg-Undersampling-w/ Regularization  0.868783   0.556522  0.853333   \n",
       "LogReg-Class Weight-All Features        0.862434   0.542373  0.853333   \n",
       "kNN-Oversampling-Not Tuned              0.904762   0.633929  0.946667   \n",
       "Random Forest-Class Weight-Not Tuned    0.918519   0.689119  0.886667   \n",
       "\n",
       "                                        F1 Score  F2 Score  \n",
       "LogReg-Imbalanced-All Features          0.659794  0.763723  \n",
       "LogReg-Oversampling-Selected Features   0.666667  0.767386  \n",
       "LogReg-Undersampling-Selected Features  0.618605  0.755682  \n",
       "LogReg-Undersampling-w/ Regularization  0.673684  0.771084  \n",
       "LogReg-Class Weight-All Features        0.663212  0.765550  \n",
       "kNN-Oversampling-Not Tuned              0.759358  0.861650  \n",
       "Random Forest-Class Weight-Not Tuned    0.775510  0.838588  "
      ]
     },
     "execution_count": 75,
     "metadata": {},
     "output_type": "execute_result"
    }
   ],
   "source": [
    "#Model evaluation on test - model 7\n",
    "models_comp = pd.concat([models_comp,\n",
    "                         pd.DataFrame({'Accuracy': accuracy_score(test['if_churn'], \n",
    "                                                                  y_test_pred_7),\n",
    "                                       'Precision': precision_score(test['if_churn'], \n",
    "                                                                    y_test_pred_7),\n",
    "                                       'Recall': recall_score(test['if_churn'], \n",
    "                                                              y_test_pred_7),\n",
    "                                       'F1 Score': f1_score(test['if_churn'], \n",
    "                                                            y_test_pred_7),\n",
    "                                       'F2 Score': fbeta_score(test['if_churn'], \n",
    "                                                               y_test_pred_7, beta = 2)\n",
    "                                      }, \n",
    "                                      index = ['Random Forest-Class Weight-Not Tuned'])])\n",
    "models_comp"
   ]
  },
  {
   "cell_type": "code",
   "execution_count": 76,
   "id": "fc4d5afd",
   "metadata": {},
   "outputs": [
    {
     "data": {
      "text/plain": [
       "array([[735,  60],\n",
       "       [ 17, 133]], dtype=int64)"
      ]
     },
     "execution_count": 76,
     "metadata": {},
     "output_type": "execute_result"
    }
   ],
   "source": [
    "#Confusion matrix - model 7\n",
    "confusion_matrix(test['if_churn'], y_test_pred_7)"
   ]
  },
  {
   "cell_type": "code",
   "execution_count": 77,
   "id": "df48c66e",
   "metadata": {},
   "outputs": [
    {
     "data": {
      "text/html": [
       "<div>\n",
       "<style scoped>\n",
       "    .dataframe tbody tr th:only-of-type {\n",
       "        vertical-align: middle;\n",
       "    }\n",
       "\n",
       "    .dataframe tbody tr th {\n",
       "        vertical-align: top;\n",
       "    }\n",
       "\n",
       "    .dataframe thead th {\n",
       "        text-align: right;\n",
       "    }\n",
       "</style>\n",
       "<table border=\"1\" class=\"dataframe\">\n",
       "  <thead>\n",
       "    <tr style=\"text-align: right;\">\n",
       "      <th></th>\n",
       "      <th>n_estimators</th>\n",
       "      <th>max_features</th>\n",
       "      <th>max_depth</th>\n",
       "      <th>min_samples_leaf</th>\n",
       "    </tr>\n",
       "  </thead>\n",
       "  <tbody>\n",
       "    <tr>\n",
       "      <th>1</th>\n",
       "      <td>200</td>\n",
       "      <td>sqrt</td>\n",
       "      <td>5</td>\n",
       "      <td>5</td>\n",
       "    </tr>\n",
       "    <tr>\n",
       "      <th>2</th>\n",
       "      <td>200</td>\n",
       "      <td>sqrt</td>\n",
       "      <td>5</td>\n",
       "      <td>15</td>\n",
       "    </tr>\n",
       "    <tr>\n",
       "      <th>3</th>\n",
       "      <td>200</td>\n",
       "      <td>sqrt</td>\n",
       "      <td>15</td>\n",
       "      <td>5</td>\n",
       "    </tr>\n",
       "    <tr>\n",
       "      <th>4</th>\n",
       "      <td>200</td>\n",
       "      <td>sqrt</td>\n",
       "      <td>15</td>\n",
       "      <td>15</td>\n",
       "    </tr>\n",
       "    <tr>\n",
       "      <th>5</th>\n",
       "      <td>200</td>\n",
       "      <td>log2</td>\n",
       "      <td>5</td>\n",
       "      <td>5</td>\n",
       "    </tr>\n",
       "    <tr>\n",
       "      <th>6</th>\n",
       "      <td>200</td>\n",
       "      <td>log2</td>\n",
       "      <td>5</td>\n",
       "      <td>15</td>\n",
       "    </tr>\n",
       "    <tr>\n",
       "      <th>7</th>\n",
       "      <td>200</td>\n",
       "      <td>log2</td>\n",
       "      <td>15</td>\n",
       "      <td>5</td>\n",
       "    </tr>\n",
       "    <tr>\n",
       "      <th>8</th>\n",
       "      <td>200</td>\n",
       "      <td>log2</td>\n",
       "      <td>15</td>\n",
       "      <td>15</td>\n",
       "    </tr>\n",
       "    <tr>\n",
       "      <th>9</th>\n",
       "      <td>200</td>\n",
       "      <td>None</td>\n",
       "      <td>5</td>\n",
       "      <td>5</td>\n",
       "    </tr>\n",
       "    <tr>\n",
       "      <th>10</th>\n",
       "      <td>200</td>\n",
       "      <td>None</td>\n",
       "      <td>5</td>\n",
       "      <td>15</td>\n",
       "    </tr>\n",
       "    <tr>\n",
       "      <th>11</th>\n",
       "      <td>200</td>\n",
       "      <td>None</td>\n",
       "      <td>15</td>\n",
       "      <td>5</td>\n",
       "    </tr>\n",
       "    <tr>\n",
       "      <th>12</th>\n",
       "      <td>200</td>\n",
       "      <td>None</td>\n",
       "      <td>15</td>\n",
       "      <td>15</td>\n",
       "    </tr>\n",
       "    <tr>\n",
       "      <th>13</th>\n",
       "      <td>500</td>\n",
       "      <td>sqrt</td>\n",
       "      <td>5</td>\n",
       "      <td>5</td>\n",
       "    </tr>\n",
       "    <tr>\n",
       "      <th>14</th>\n",
       "      <td>500</td>\n",
       "      <td>sqrt</td>\n",
       "      <td>5</td>\n",
       "      <td>15</td>\n",
       "    </tr>\n",
       "    <tr>\n",
       "      <th>15</th>\n",
       "      <td>500</td>\n",
       "      <td>sqrt</td>\n",
       "      <td>15</td>\n",
       "      <td>5</td>\n",
       "    </tr>\n",
       "    <tr>\n",
       "      <th>16</th>\n",
       "      <td>500</td>\n",
       "      <td>sqrt</td>\n",
       "      <td>15</td>\n",
       "      <td>15</td>\n",
       "    </tr>\n",
       "    <tr>\n",
       "      <th>17</th>\n",
       "      <td>500</td>\n",
       "      <td>log2</td>\n",
       "      <td>5</td>\n",
       "      <td>5</td>\n",
       "    </tr>\n",
       "    <tr>\n",
       "      <th>18</th>\n",
       "      <td>500</td>\n",
       "      <td>log2</td>\n",
       "      <td>5</td>\n",
       "      <td>15</td>\n",
       "    </tr>\n",
       "    <tr>\n",
       "      <th>19</th>\n",
       "      <td>500</td>\n",
       "      <td>log2</td>\n",
       "      <td>15</td>\n",
       "      <td>5</td>\n",
       "    </tr>\n",
       "    <tr>\n",
       "      <th>20</th>\n",
       "      <td>500</td>\n",
       "      <td>log2</td>\n",
       "      <td>15</td>\n",
       "      <td>15</td>\n",
       "    </tr>\n",
       "    <tr>\n",
       "      <th>21</th>\n",
       "      <td>500</td>\n",
       "      <td>None</td>\n",
       "      <td>5</td>\n",
       "      <td>5</td>\n",
       "    </tr>\n",
       "    <tr>\n",
       "      <th>22</th>\n",
       "      <td>500</td>\n",
       "      <td>None</td>\n",
       "      <td>5</td>\n",
       "      <td>15</td>\n",
       "    </tr>\n",
       "    <tr>\n",
       "      <th>23</th>\n",
       "      <td>500</td>\n",
       "      <td>None</td>\n",
       "      <td>15</td>\n",
       "      <td>5</td>\n",
       "    </tr>\n",
       "    <tr>\n",
       "      <th>24</th>\n",
       "      <td>500</td>\n",
       "      <td>None</td>\n",
       "      <td>15</td>\n",
       "      <td>15</td>\n",
       "    </tr>\n",
       "  </tbody>\n",
       "</table>\n",
       "</div>"
      ],
      "text/plain": [
       "    n_estimators max_features  max_depth  min_samples_leaf\n",
       "1            200         sqrt          5                 5\n",
       "2            200         sqrt          5                15\n",
       "3            200         sqrt         15                 5\n",
       "4            200         sqrt         15                15\n",
       "5            200         log2          5                 5\n",
       "6            200         log2          5                15\n",
       "7            200         log2         15                 5\n",
       "8            200         log2         15                15\n",
       "9            200         None          5                 5\n",
       "10           200         None          5                15\n",
       "11           200         None         15                 5\n",
       "12           200         None         15                15\n",
       "13           500         sqrt          5                 5\n",
       "14           500         sqrt          5                15\n",
       "15           500         sqrt         15                 5\n",
       "16           500         sqrt         15                15\n",
       "17           500         log2          5                 5\n",
       "18           500         log2          5                15\n",
       "19           500         log2         15                 5\n",
       "20           500         log2         15                15\n",
       "21           500         None          5                 5\n",
       "22           500         None          5                15\n",
       "23           500         None         15                 5\n",
       "24           500         None         15                15"
      ]
     },
     "execution_count": 77,
     "metadata": {},
     "output_type": "execute_result"
    }
   ],
   "source": [
    "#Create hyper-parameters grid\n",
    "import itertools\n",
    "n_estimators = [200, 500]\n",
    "max_features = ['sqrt', 'log2', None] #If None or 1.0, then max_features = n_features\n",
    "max_depth = [5, 15]\n",
    "min_samples_leaf = [5, 15]\n",
    "params_grid = list(itertools.product(n_estimators, \n",
    "                                     max_features, \n",
    "                                     max_depth, \n",
    "                                     min_samples_leaf))\n",
    "params_grid = pd.DataFrame(data = params_grid,\n",
    "                           index = range(1, 25), \n",
    "                           columns = ['n_estimators', \n",
    "                                      'max_features', \n",
    "                                      'max_depth', \n",
    "                                      'min_samples_leaf'])\n",
    "params_grid"
   ]
  },
  {
   "cell_type": "code",
   "execution_count": 78,
   "id": "ccf1be1c",
   "metadata": {},
   "outputs": [
    {
     "name": "stdout",
     "output_type": "stream",
     "text": [
      "The Processing time is:  134.90053534507751 seconds\n"
     ]
    }
   ],
   "source": [
    "#K-fold cross validation to choose the best model\n",
    "from sklearn.model_selection import cross_val_score\n",
    "\n",
    "cv_scores = np.zeros(shape = len(params_grid)) #to save cv results\n",
    "\n",
    "import time #to measure the processing time\n",
    "\n",
    "start_time = time.time()\n",
    "for i in range(len(params_grid)):\n",
    "    rf_classifier = RandomForestClassifier(n_estimators = params_grid.iloc[i, 0],\n",
    "                                           max_features = params_grid.iloc[i, 1], \n",
    "                                           criterion = 'gini',\n",
    "                                           max_depth = params_grid.iloc[i, 2], \n",
    "                                           min_samples_leaf = params_grid.iloc[i, 3],\n",
    "                                           class_weight = 'balanced',\n",
    "                                           ccp_alpha = 0)\n",
    "    scores = cross_val_score(estimator = rf_classifier, \n",
    "                             X = X_train_imbalanced, \n",
    "                             y = y_train,\n",
    "                             scoring = 'roc_auc',\n",
    "                             cv = 5, n_jobs = -1)\n",
    "    cv_scores[i] = scores.mean()\n",
    "end_time = time.time()\n",
    "print('The Processing time is: ', end_time - start_time, 'seconds')"
   ]
  },
  {
   "cell_type": "code",
   "execution_count": 79,
   "id": "1cb24ac3",
   "metadata": {},
   "outputs": [
    {
     "data": {
      "text/plain": [
       "n_estimators         500\n",
       "max_features        sqrt\n",
       "max_depth             15\n",
       "min_samples_leaf       5\n",
       "Name: 15, dtype: object"
      ]
     },
     "execution_count": 79,
     "metadata": {},
     "output_type": "execute_result"
    }
   ],
   "source": [
    "#Best model\n",
    "params_grid.iloc[np.argmax(cv_scores), :]"
   ]
  },
  {
   "cell_type": "code",
   "execution_count": 80,
   "id": "9ce0c19c",
   "metadata": {},
   "outputs": [
    {
     "data": {
      "text/plain": [
       "358     0\n",
       "775     0\n",
       "426     1\n",
       "273     0\n",
       "1687    0\n",
       "       ..\n",
       "2505    0\n",
       "1378    1\n",
       "892     0\n",
       "636     0\n",
       "1879    0\n",
       "Length: 945, dtype: int64"
      ]
     },
     "execution_count": 80,
     "metadata": {},
     "output_type": "execute_result"
    }
   ],
   "source": [
    "#Train model 8\n",
    "rf_classifier = RandomForestClassifier(n_estimators = params_grid.iloc[np.argmax(cv_scores), 0],\n",
    "                                       max_features = params_grid.iloc[np.argmax(cv_scores), 1], \n",
    "                                       criterion = 'gini',\n",
    "                                       max_depth = params_grid.iloc[np.argmax(cv_scores), 2], \n",
    "                                       min_samples_leaf = params_grid.iloc[np.argmax(cv_scores), 3], \n",
    "                                       class_weight = 'balanced',\n",
    "                                       ccp_alpha = 0,\n",
    "                                       random_state = 1234)\n",
    "model_8 = rf_classifier.fit(X_train_imbalanced, y_train)\n",
    "\n",
    "#Prediction using model 8\n",
    "y_test_pred_8 = pd.Series(model_8.predict(X_test), index = test.index)\n",
    "y_test_pred_8"
   ]
  },
  {
   "cell_type": "code",
   "execution_count": 81,
   "id": "2d6b3a01",
   "metadata": {},
   "outputs": [
    {
     "data": {
      "text/html": [
       "<div>\n",
       "<style scoped>\n",
       "    .dataframe tbody tr th:only-of-type {\n",
       "        vertical-align: middle;\n",
       "    }\n",
       "\n",
       "    .dataframe tbody tr th {\n",
       "        vertical-align: top;\n",
       "    }\n",
       "\n",
       "    .dataframe thead th {\n",
       "        text-align: right;\n",
       "    }\n",
       "</style>\n",
       "<table border=\"1\" class=\"dataframe\">\n",
       "  <thead>\n",
       "    <tr style=\"text-align: right;\">\n",
       "      <th></th>\n",
       "      <th>Accuracy</th>\n",
       "      <th>Precision</th>\n",
       "      <th>Recall</th>\n",
       "      <th>F1 Score</th>\n",
       "      <th>F2 Score</th>\n",
       "    </tr>\n",
       "  </thead>\n",
       "  <tbody>\n",
       "    <tr>\n",
       "      <th>LogReg-Imbalanced-All Features</th>\n",
       "      <td>0.860317</td>\n",
       "      <td>0.537815</td>\n",
       "      <td>0.853333</td>\n",
       "      <td>0.659794</td>\n",
       "      <td>0.763723</td>\n",
       "    </tr>\n",
       "    <tr>\n",
       "      <th>LogReg-Oversampling-Selected Features</th>\n",
       "      <td>0.864550</td>\n",
       "      <td>0.547009</td>\n",
       "      <td>0.853333</td>\n",
       "      <td>0.666667</td>\n",
       "      <td>0.767386</td>\n",
       "    </tr>\n",
       "    <tr>\n",
       "      <th>LogReg-Undersampling-Selected Features</th>\n",
       "      <td>0.826455</td>\n",
       "      <td>0.475000</td>\n",
       "      <td>0.886667</td>\n",
       "      <td>0.618605</td>\n",
       "      <td>0.755682</td>\n",
       "    </tr>\n",
       "    <tr>\n",
       "      <th>LogReg-Undersampling-w/ Regularization</th>\n",
       "      <td>0.868783</td>\n",
       "      <td>0.556522</td>\n",
       "      <td>0.853333</td>\n",
       "      <td>0.673684</td>\n",
       "      <td>0.771084</td>\n",
       "    </tr>\n",
       "    <tr>\n",
       "      <th>LogReg-Class Weight-All Features</th>\n",
       "      <td>0.862434</td>\n",
       "      <td>0.542373</td>\n",
       "      <td>0.853333</td>\n",
       "      <td>0.663212</td>\n",
       "      <td>0.765550</td>\n",
       "    </tr>\n",
       "    <tr>\n",
       "      <th>kNN-Oversampling-Not Tuned</th>\n",
       "      <td>0.904762</td>\n",
       "      <td>0.633929</td>\n",
       "      <td>0.946667</td>\n",
       "      <td>0.759358</td>\n",
       "      <td>0.861650</td>\n",
       "    </tr>\n",
       "    <tr>\n",
       "      <th>Random Forest-Class Weight-Not Tuned</th>\n",
       "      <td>0.918519</td>\n",
       "      <td>0.689119</td>\n",
       "      <td>0.886667</td>\n",
       "      <td>0.775510</td>\n",
       "      <td>0.838588</td>\n",
       "    </tr>\n",
       "    <tr>\n",
       "      <th>Random Forest-Class Weight-Tuned</th>\n",
       "      <td>0.947090</td>\n",
       "      <td>0.801205</td>\n",
       "      <td>0.886667</td>\n",
       "      <td>0.841772</td>\n",
       "      <td>0.868146</td>\n",
       "    </tr>\n",
       "  </tbody>\n",
       "</table>\n",
       "</div>"
      ],
      "text/plain": [
       "                                        Accuracy  Precision    Recall  \\\n",
       "LogReg-Imbalanced-All Features          0.860317   0.537815  0.853333   \n",
       "LogReg-Oversampling-Selected Features   0.864550   0.547009  0.853333   \n",
       "LogReg-Undersampling-Selected Features  0.826455   0.475000  0.886667   \n",
       "LogReg-Undersampling-w/ Regularization  0.868783   0.556522  0.853333   \n",
       "LogReg-Class Weight-All Features        0.862434   0.542373  0.853333   \n",
       "kNN-Oversampling-Not Tuned              0.904762   0.633929  0.946667   \n",
       "Random Forest-Class Weight-Not Tuned    0.918519   0.689119  0.886667   \n",
       "Random Forest-Class Weight-Tuned        0.947090   0.801205  0.886667   \n",
       "\n",
       "                                        F1 Score  F2 Score  \n",
       "LogReg-Imbalanced-All Features          0.659794  0.763723  \n",
       "LogReg-Oversampling-Selected Features   0.666667  0.767386  \n",
       "LogReg-Undersampling-Selected Features  0.618605  0.755682  \n",
       "LogReg-Undersampling-w/ Regularization  0.673684  0.771084  \n",
       "LogReg-Class Weight-All Features        0.663212  0.765550  \n",
       "kNN-Oversampling-Not Tuned              0.759358  0.861650  \n",
       "Random Forest-Class Weight-Not Tuned    0.775510  0.838588  \n",
       "Random Forest-Class Weight-Tuned        0.841772  0.868146  "
      ]
     },
     "execution_count": 81,
     "metadata": {},
     "output_type": "execute_result"
    }
   ],
   "source": [
    "#Model evaluation on test - model 8\n",
    "models_comp = pd.concat([models_comp,\n",
    "                         pd.DataFrame({'Accuracy': accuracy_score(test['if_churn'], \n",
    "                                                                  y_test_pred_8),\n",
    "                                       'Precision': precision_score(test['if_churn'], \n",
    "                                                                    y_test_pred_8),\n",
    "                                       'Recall': recall_score(test['if_churn'], \n",
    "                                                              y_test_pred_8),\n",
    "                                       'F1 Score': f1_score(test['if_churn'], \n",
    "                                                            y_test_pred_8),\n",
    "                                       'F2 Score': fbeta_score(test['if_churn'], \n",
    "                                                               y_test_pred_8, beta = 2)\n",
    "                                      }, \n",
    "                                      index = ['Random Forest-Class Weight-Tuned'])])\n",
    "models_comp"
   ]
  },
  {
   "cell_type": "code",
   "execution_count": 82,
   "id": "205c900e",
   "metadata": {},
   "outputs": [
    {
     "data": {
      "text/plain": [
       "array([[762,  33],\n",
       "       [ 17, 133]], dtype=int64)"
      ]
     },
     "execution_count": 82,
     "metadata": {},
     "output_type": "execute_result"
    }
   ],
   "source": [
    "#Confusion matrix - model 8\n",
    "confusion_matrix(test['if_churn'], y_test_pred_8)"
   ]
  },
  {
   "cell_type": "markdown",
   "id": "db7f5c8d",
   "metadata": {},
   "source": [
    "### Support Vector Machine "
   ]
  },
  {
   "cell_type": "code",
   "execution_count": 83,
   "id": "c3894202",
   "metadata": {},
   "outputs": [],
   "source": [
    "from sklearn.svm import SVC\n",
    "#svc = SVC(kernel = 'poly', degree = 2, C = 100)\n",
    "#Degree?\n",
    "#C: Regularization parameter. \n",
    "#   The strength of the regularization is inversely proportional to C."
   ]
  },
  {
   "cell_type": "code",
   "execution_count": 84,
   "id": "94b87644",
   "metadata": {},
   "outputs": [
    {
     "data": {
      "text/html": [
       "<div>\n",
       "<style scoped>\n",
       "    .dataframe tbody tr th:only-of-type {\n",
       "        vertical-align: middle;\n",
       "    }\n",
       "\n",
       "    .dataframe tbody tr th {\n",
       "        vertical-align: top;\n",
       "    }\n",
       "\n",
       "    .dataframe thead th {\n",
       "        text-align: right;\n",
       "    }\n",
       "</style>\n",
       "<table border=\"1\" class=\"dataframe\">\n",
       "  <thead>\n",
       "    <tr style=\"text-align: right;\">\n",
       "      <th></th>\n",
       "      <th>degree_grid</th>\n",
       "      <th>c_reg</th>\n",
       "    </tr>\n",
       "  </thead>\n",
       "  <tbody>\n",
       "    <tr>\n",
       "      <th>1</th>\n",
       "      <td>2</td>\n",
       "      <td>0.001</td>\n",
       "    </tr>\n",
       "    <tr>\n",
       "      <th>2</th>\n",
       "      <td>2</td>\n",
       "      <td>0.010</td>\n",
       "    </tr>\n",
       "    <tr>\n",
       "      <th>3</th>\n",
       "      <td>2</td>\n",
       "      <td>0.100</td>\n",
       "    </tr>\n",
       "    <tr>\n",
       "      <th>4</th>\n",
       "      <td>2</td>\n",
       "      <td>1.000</td>\n",
       "    </tr>\n",
       "    <tr>\n",
       "      <th>5</th>\n",
       "      <td>2</td>\n",
       "      <td>10.000</td>\n",
       "    </tr>\n",
       "    <tr>\n",
       "      <th>6</th>\n",
       "      <td>2</td>\n",
       "      <td>100.000</td>\n",
       "    </tr>\n",
       "    <tr>\n",
       "      <th>7</th>\n",
       "      <td>2</td>\n",
       "      <td>1000.000</td>\n",
       "    </tr>\n",
       "    <tr>\n",
       "      <th>8</th>\n",
       "      <td>3</td>\n",
       "      <td>0.001</td>\n",
       "    </tr>\n",
       "    <tr>\n",
       "      <th>9</th>\n",
       "      <td>3</td>\n",
       "      <td>0.010</td>\n",
       "    </tr>\n",
       "    <tr>\n",
       "      <th>10</th>\n",
       "      <td>3</td>\n",
       "      <td>0.100</td>\n",
       "    </tr>\n",
       "    <tr>\n",
       "      <th>11</th>\n",
       "      <td>3</td>\n",
       "      <td>1.000</td>\n",
       "    </tr>\n",
       "    <tr>\n",
       "      <th>12</th>\n",
       "      <td>3</td>\n",
       "      <td>10.000</td>\n",
       "    </tr>\n",
       "    <tr>\n",
       "      <th>13</th>\n",
       "      <td>3</td>\n",
       "      <td>100.000</td>\n",
       "    </tr>\n",
       "    <tr>\n",
       "      <th>14</th>\n",
       "      <td>3</td>\n",
       "      <td>1000.000</td>\n",
       "    </tr>\n",
       "    <tr>\n",
       "      <th>15</th>\n",
       "      <td>4</td>\n",
       "      <td>0.001</td>\n",
       "    </tr>\n",
       "    <tr>\n",
       "      <th>16</th>\n",
       "      <td>4</td>\n",
       "      <td>0.010</td>\n",
       "    </tr>\n",
       "    <tr>\n",
       "      <th>17</th>\n",
       "      <td>4</td>\n",
       "      <td>0.100</td>\n",
       "    </tr>\n",
       "    <tr>\n",
       "      <th>18</th>\n",
       "      <td>4</td>\n",
       "      <td>1.000</td>\n",
       "    </tr>\n",
       "    <tr>\n",
       "      <th>19</th>\n",
       "      <td>4</td>\n",
       "      <td>10.000</td>\n",
       "    </tr>\n",
       "    <tr>\n",
       "      <th>20</th>\n",
       "      <td>4</td>\n",
       "      <td>100.000</td>\n",
       "    </tr>\n",
       "    <tr>\n",
       "      <th>21</th>\n",
       "      <td>4</td>\n",
       "      <td>1000.000</td>\n",
       "    </tr>\n",
       "  </tbody>\n",
       "</table>\n",
       "</div>"
      ],
      "text/plain": [
       "    degree_grid     c_reg\n",
       "1             2     0.001\n",
       "2             2     0.010\n",
       "3             2     0.100\n",
       "4             2     1.000\n",
       "5             2    10.000\n",
       "6             2   100.000\n",
       "7             2  1000.000\n",
       "8             3     0.001\n",
       "9             3     0.010\n",
       "10            3     0.100\n",
       "11            3     1.000\n",
       "12            3    10.000\n",
       "13            3   100.000\n",
       "14            3  1000.000\n",
       "15            4     0.001\n",
       "16            4     0.010\n",
       "17            4     0.100\n",
       "18            4     1.000\n",
       "19            4    10.000\n",
       "20            4   100.000\n",
       "21            4  1000.000"
      ]
     },
     "execution_count": 84,
     "metadata": {},
     "output_type": "execute_result"
    }
   ],
   "source": [
    "#Create hyper-parameters grid\n",
    "degree_grid = [2, 3, 4]\n",
    "#C: Inverse of regularization strength; \n",
    "#  smaller values specify stronger regularization.\n",
    "c_reg = 10 ** np.linspace(-3, 3, 7)\n",
    "params_grid = list(itertools.product(degree_grid, c_reg))\n",
    "params_grid = pd.DataFrame(data = params_grid,\n",
    "                           index = range(1, 22), \n",
    "                           columns = ['degree_grid', 'c_reg'])\n",
    "params_grid"
   ]
  },
  {
   "cell_type": "code",
   "execution_count": 85,
   "id": "ee3225fa",
   "metadata": {},
   "outputs": [
    {
     "name": "stdout",
     "output_type": "stream",
     "text": [
      "The Processing time is:  55.6701443195343 seconds\n"
     ]
    }
   ],
   "source": [
    "#K-fold cross validation to choose the best model\n",
    "from sklearn.model_selection import cross_val_score\n",
    "\n",
    "cv_scores = np.zeros(shape = len(params_grid)) #to save cv results\n",
    "import time #to measure the processing time\n",
    "start_time = time.time()\n",
    "for i in range(len(params_grid)):\n",
    "    svc = SVC(kernel = 'poly', \n",
    "              degree = params_grid.iloc[i, 0], \n",
    "              C = params_grid.iloc[i, 1])\n",
    "    scores = cross_val_score(svc, \n",
    "                             X_train_over_scaled, \n",
    "                             y_train_over, \n",
    "                             cv = 5, scoring = 'roc_auc')\n",
    "    cv_scores[i] = scores.mean()\n",
    "end_time = time.time()\n",
    "print('The Processing time is: ', end_time - start_time, 'seconds')"
   ]
  },
  {
   "cell_type": "code",
   "execution_count": 86,
   "id": "950f1fa0",
   "metadata": {},
   "outputs": [
    {
     "data": {
      "text/plain": [
       "degree_grid       4.0\n",
       "c_reg          1000.0\n",
       "Name: 21, dtype: float64"
      ]
     },
     "execution_count": 86,
     "metadata": {},
     "output_type": "execute_result"
    }
   ],
   "source": [
    "#Best model\n",
    "params_grid.iloc[np.argmax(cv_scores), :]"
   ]
  },
  {
   "cell_type": "code",
   "execution_count": 87,
   "id": "71d58114",
   "metadata": {},
   "outputs": [
    {
     "data": {
      "text/plain": [
       "358     0\n",
       "775     0\n",
       "426     1\n",
       "273     0\n",
       "1687    0\n",
       "       ..\n",
       "2505    0\n",
       "1378    1\n",
       "892     0\n",
       "636     0\n",
       "1879    0\n",
       "Length: 945, dtype: int64"
      ]
     },
     "execution_count": 87,
     "metadata": {},
     "output_type": "execute_result"
    }
   ],
   "source": [
    "svc = SVC(kernel = 'poly', \n",
    "          degree = params_grid.iloc[np.argmax(cv_scores), 0], \n",
    "          C = params_grid.iloc[np.argmax(cv_scores), 1])\n",
    "\n",
    "model_9 = svc.fit(X_train_over_scaled, y_train_over)\n",
    "\n",
    "#Prediction using model 8\n",
    "y_test_pred_9 = pd.Series(model_9.predict(X_test_scaled), index = test.index)\n",
    "y_test_pred_9"
   ]
  },
  {
   "cell_type": "code",
   "execution_count": 88,
   "id": "00f26b43",
   "metadata": {},
   "outputs": [
    {
     "data": {
      "text/html": [
       "<div>\n",
       "<style scoped>\n",
       "    .dataframe tbody tr th:only-of-type {\n",
       "        vertical-align: middle;\n",
       "    }\n",
       "\n",
       "    .dataframe tbody tr th {\n",
       "        vertical-align: top;\n",
       "    }\n",
       "\n",
       "    .dataframe thead th {\n",
       "        text-align: right;\n",
       "    }\n",
       "</style>\n",
       "<table border=\"1\" class=\"dataframe\">\n",
       "  <thead>\n",
       "    <tr style=\"text-align: right;\">\n",
       "      <th></th>\n",
       "      <th>Accuracy</th>\n",
       "      <th>Precision</th>\n",
       "      <th>Recall</th>\n",
       "      <th>F1 Score</th>\n",
       "      <th>F2 Score</th>\n",
       "    </tr>\n",
       "  </thead>\n",
       "  <tbody>\n",
       "    <tr>\n",
       "      <th>LogReg-Imbalanced-All Features</th>\n",
       "      <td>0.860317</td>\n",
       "      <td>0.537815</td>\n",
       "      <td>0.853333</td>\n",
       "      <td>0.659794</td>\n",
       "      <td>0.763723</td>\n",
       "    </tr>\n",
       "    <tr>\n",
       "      <th>LogReg-Oversampling-Selected Features</th>\n",
       "      <td>0.864550</td>\n",
       "      <td>0.547009</td>\n",
       "      <td>0.853333</td>\n",
       "      <td>0.666667</td>\n",
       "      <td>0.767386</td>\n",
       "    </tr>\n",
       "    <tr>\n",
       "      <th>LogReg-Undersampling-Selected Features</th>\n",
       "      <td>0.826455</td>\n",
       "      <td>0.475000</td>\n",
       "      <td>0.886667</td>\n",
       "      <td>0.618605</td>\n",
       "      <td>0.755682</td>\n",
       "    </tr>\n",
       "    <tr>\n",
       "      <th>LogReg-Undersampling-w/ Regularization</th>\n",
       "      <td>0.868783</td>\n",
       "      <td>0.556522</td>\n",
       "      <td>0.853333</td>\n",
       "      <td>0.673684</td>\n",
       "      <td>0.771084</td>\n",
       "    </tr>\n",
       "    <tr>\n",
       "      <th>LogReg-Class Weight-All Features</th>\n",
       "      <td>0.862434</td>\n",
       "      <td>0.542373</td>\n",
       "      <td>0.853333</td>\n",
       "      <td>0.663212</td>\n",
       "      <td>0.765550</td>\n",
       "    </tr>\n",
       "    <tr>\n",
       "      <th>kNN-Oversampling-Not Tuned</th>\n",
       "      <td>0.904762</td>\n",
       "      <td>0.633929</td>\n",
       "      <td>0.946667</td>\n",
       "      <td>0.759358</td>\n",
       "      <td>0.861650</td>\n",
       "    </tr>\n",
       "    <tr>\n",
       "      <th>Random Forest-Class Weight-Not Tuned</th>\n",
       "      <td>0.918519</td>\n",
       "      <td>0.689119</td>\n",
       "      <td>0.886667</td>\n",
       "      <td>0.775510</td>\n",
       "      <td>0.838588</td>\n",
       "    </tr>\n",
       "    <tr>\n",
       "      <th>Random Forest-Class Weight-Tuned</th>\n",
       "      <td>0.947090</td>\n",
       "      <td>0.801205</td>\n",
       "      <td>0.886667</td>\n",
       "      <td>0.841772</td>\n",
       "      <td>0.868146</td>\n",
       "    </tr>\n",
       "    <tr>\n",
       "      <th>SVM-Oversampling-Tuned</th>\n",
       "      <td>0.957672</td>\n",
       "      <td>0.808989</td>\n",
       "      <td>0.960000</td>\n",
       "      <td>0.878049</td>\n",
       "      <td>0.925450</td>\n",
       "    </tr>\n",
       "  </tbody>\n",
       "</table>\n",
       "</div>"
      ],
      "text/plain": [
       "                                        Accuracy  Precision    Recall  \\\n",
       "LogReg-Imbalanced-All Features          0.860317   0.537815  0.853333   \n",
       "LogReg-Oversampling-Selected Features   0.864550   0.547009  0.853333   \n",
       "LogReg-Undersampling-Selected Features  0.826455   0.475000  0.886667   \n",
       "LogReg-Undersampling-w/ Regularization  0.868783   0.556522  0.853333   \n",
       "LogReg-Class Weight-All Features        0.862434   0.542373  0.853333   \n",
       "kNN-Oversampling-Not Tuned              0.904762   0.633929  0.946667   \n",
       "Random Forest-Class Weight-Not Tuned    0.918519   0.689119  0.886667   \n",
       "Random Forest-Class Weight-Tuned        0.947090   0.801205  0.886667   \n",
       "SVM-Oversampling-Tuned                  0.957672   0.808989  0.960000   \n",
       "\n",
       "                                        F1 Score  F2 Score  \n",
       "LogReg-Imbalanced-All Features          0.659794  0.763723  \n",
       "LogReg-Oversampling-Selected Features   0.666667  0.767386  \n",
       "LogReg-Undersampling-Selected Features  0.618605  0.755682  \n",
       "LogReg-Undersampling-w/ Regularization  0.673684  0.771084  \n",
       "LogReg-Class Weight-All Features        0.663212  0.765550  \n",
       "kNN-Oversampling-Not Tuned              0.759358  0.861650  \n",
       "Random Forest-Class Weight-Not Tuned    0.775510  0.838588  \n",
       "Random Forest-Class Weight-Tuned        0.841772  0.868146  \n",
       "SVM-Oversampling-Tuned                  0.878049  0.925450  "
      ]
     },
     "execution_count": 88,
     "metadata": {},
     "output_type": "execute_result"
    }
   ],
   "source": [
    "#Model evaluation on test - model 9\n",
    "models_comp = pd.concat([models_comp,\n",
    "                         pd.DataFrame({'Accuracy': accuracy_score(test['if_churn'], \n",
    "                                                                  y_test_pred_9),\n",
    "                                       'Precision': precision_score(test['if_churn'], \n",
    "                                                                    y_test_pred_9),\n",
    "                                       'Recall': recall_score(test['if_churn'], \n",
    "                                                              y_test_pred_9),\n",
    "                                       'F1 Score': f1_score(test['if_churn'], \n",
    "                                                            y_test_pred_9),\n",
    "                                       'F2 Score': fbeta_score(test['if_churn'], \n",
    "                                                               y_test_pred_9, beta = 2)\n",
    "                                      }, \n",
    "                                      index = ['SVM-Oversampling-Tuned'])])\n",
    "models_comp"
   ]
  },
  {
   "cell_type": "code",
   "execution_count": 89,
   "id": "b3156a9f",
   "metadata": {},
   "outputs": [
    {
     "data": {
      "text/plain": [
       "array([[761,  34],\n",
       "       [  6, 144]], dtype=int64)"
      ]
     },
     "execution_count": 89,
     "metadata": {},
     "output_type": "execute_result"
    }
   ],
   "source": [
    "#Confusion matrix - model 9\n",
    "confusion_matrix(test['if_churn'], y_test_pred_9)"
   ]
  },
  {
   "cell_type": "markdown",
   "id": "c1979e6d",
   "metadata": {},
   "source": [
    "# Assignment"
   ]
  },
  {
   "cell_type": "markdown",
   "id": "dc91ad55",
   "metadata": {},
   "source": [
    "Create a synthetic data set which includes 600 observations with two features (x1, x2) using the code below:\n",
    "\n",
    "    from sklearn import datasets\n",
    "\n",
    "    features, response = datasets.make_blobs(n_samples = [300, 300], \n",
    "                                             n_features = 2, \n",
    "                                             centers = [(5, 5), (6.5, 5)], \n",
    "                                             cluster_std = 0.5, \n",
    "                                             random_state = 123)\n",
    "                                         \n",
    "                                         \n",
    "Split data into test and train. The goal is to predict class of each observation based on x1 and x2 using Logistic Regression, kNN, Random Forest, and Support Vector Machines. \n",
    "\n",
    "Evaluate the performance of your model on test based on accuracy, precision, recall, and F1 score."
   ]
  },
  {
   "cell_type": "markdown",
   "id": "95d03361",
   "metadata": {},
   "source": [
    "# End of Code"
   ]
  }
 ],
 "metadata": {
  "kernelspec": {
   "display_name": "Python 3 (ipykernel)",
   "language": "python",
   "name": "python3"
  },
  "language_info": {
   "codemirror_mode": {
    "name": "ipython",
    "version": 3
   },
   "file_extension": ".py",
   "mimetype": "text/x-python",
   "name": "python",
   "nbconvert_exporter": "python",
   "pygments_lexer": "ipython3",
   "version": "3.10.9"
  }
 },
 "nbformat": 4,
 "nbformat_minor": 5
}
